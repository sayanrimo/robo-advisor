{
 "cells": [
  {
   "cell_type": "code",
   "execution_count": 6,
   "id": "e31650b1",
   "metadata": {},
   "outputs": [
    {
     "name": "stdout",
     "output_type": "stream",
     "text": [
      "Requirement already satisfied: keras in c:\\users\\sayan\\appdata\\local\\programs\\python\\python312\\lib\\site-packages (3.10.0)Note: you may need to restart the kernel to use updated packages.\n",
      "\n",
      "Requirement already satisfied: absl-py in c:\\users\\sayan\\appdata\\local\\programs\\python\\python312\\lib\\site-packages (from keras) (2.1.0)\n",
      "Requirement already satisfied: numpy in c:\\users\\sayan\\appdata\\local\\programs\\python\\python312\\lib\\site-packages (from keras) (2.2.5)\n",
      "Requirement already satisfied: rich in c:\\users\\sayan\\appdata\\local\\programs\\python\\python312\\lib\\site-packages (from keras) (13.9.4)\n",
      "Requirement already satisfied: namex in c:\\users\\sayan\\appdata\\local\\programs\\python\\python312\\lib\\site-packages (from keras) (0.0.8)\n",
      "Requirement already satisfied: h5py in c:\\users\\sayan\\appdata\\local\\programs\\python\\python312\\lib\\site-packages (from keras) (3.13.0)\n",
      "Requirement already satisfied: optree in c:\\users\\sayan\\appdata\\local\\programs\\python\\python312\\lib\\site-packages (from keras) (0.14.0)\n",
      "Requirement already satisfied: ml-dtypes in c:\\users\\sayan\\appdata\\local\\programs\\python\\python312\\lib\\site-packages (from keras) (0.4.1)\n",
      "Requirement already satisfied: packaging in c:\\users\\sayan\\appdata\\local\\programs\\python\\python312\\lib\\site-packages (from keras) (25.0)\n",
      "Requirement already satisfied: typing-extensions>=4.5.0 in c:\\users\\sayan\\appdata\\local\\programs\\python\\python312\\lib\\site-packages (from optree->keras) (4.13.2)\n",
      "Requirement already satisfied: markdown-it-py>=2.2.0 in c:\\users\\sayan\\appdata\\local\\programs\\python\\python312\\lib\\site-packages (from rich->keras) (3.0.0)\n",
      "Requirement already satisfied: pygments<3.0.0,>=2.13.0 in c:\\users\\sayan\\appdata\\local\\programs\\python\\python312\\lib\\site-packages (from rich->keras) (2.18.0)\n",
      "Requirement already satisfied: mdurl~=0.1 in c:\\users\\sayan\\appdata\\local\\programs\\python\\python312\\lib\\site-packages (from markdown-it-py>=2.2.0->rich->keras) (0.1.2)\n"
     ]
    },
    {
     "name": "stderr",
     "output_type": "stream",
     "text": [
      "\n",
      "[notice] A new release of pip is available: 25.0.1 -> 25.1.1\n",
      "[notice] To update, run: python.exe -m pip install --upgrade pip\n"
     ]
    },
    {
     "name": "stdout",
     "output_type": "stream",
     "text": [
      "Requirement already satisfied: scikeras in c:\\users\\sayan\\appdata\\local\\programs\\python\\python312\\lib\\site-packages (0.13.0)\n",
      "Requirement already satisfied: keras>=3.2.0 in c:\\users\\sayan\\appdata\\local\\programs\\python\\python312\\lib\\site-packages (from scikeras) (3.10.0)\n",
      "Requirement already satisfied: scikit-learn>=1.4.2 in c:\\users\\sayan\\appdata\\local\\programs\\python\\python312\\lib\\site-packages (from scikeras) (1.6.1)\n",
      "Requirement already satisfied: absl-py in c:\\users\\sayan\\appdata\\local\\programs\\python\\python312\\lib\\site-packages (from keras>=3.2.0->scikeras) (2.1.0)\n",
      "Requirement already satisfied: numpy in c:\\users\\sayan\\appdata\\local\\programs\\python\\python312\\lib\\site-packages (from keras>=3.2.0->scikeras) (2.2.5)\n",
      "Requirement already satisfied: rich in c:\\users\\sayan\\appdata\\local\\programs\\python\\python312\\lib\\site-packages (from keras>=3.2.0->scikeras) (13.9.4)\n",
      "Requirement already satisfied: namex in c:\\users\\sayan\\appdata\\local\\programs\\python\\python312\\lib\\site-packages (from keras>=3.2.0->scikeras) (0.0.8)\n",
      "Requirement already satisfied: h5py in c:\\users\\sayan\\appdata\\local\\programs\\python\\python312\\lib\\site-packages (from keras>=3.2.0->scikeras) (3.13.0)\n",
      "Requirement already satisfied: optree in c:\\users\\sayan\\appdata\\local\\programs\\python\\python312\\lib\\site-packages (from keras>=3.2.0->scikeras) (0.14.0)\n",
      "Requirement already satisfied: ml-dtypes in c:\\users\\sayan\\appdata\\local\\programs\\python\\python312\\lib\\site-packages (from keras>=3.2.0->scikeras) (0.4.1)\n",
      "Requirement already satisfied: packaging in c:\\users\\sayan\\appdata\\local\\programs\\python\\python312\\lib\\site-packages (from keras>=3.2.0->scikeras) (25.0)\n",
      "Requirement already satisfied: scipy>=1.6.0 in c:\\users\\sayan\\appdata\\local\\programs\\python\\python312\\lib\\site-packages (from scikit-learn>=1.4.2->scikeras) (1.15.3)\n",
      "Requirement already satisfied: joblib>=1.2.0 in c:\\users\\sayan\\appdata\\local\\programs\\python\\python312\\lib\\site-packages (from scikit-learn>=1.4.2->scikeras) (1.5.0)\n",
      "Requirement already satisfied: threadpoolctl>=3.1.0 in c:\\users\\sayan\\appdata\\local\\programs\\python\\python312\\lib\\site-packages (from scikit-learn>=1.4.2->scikeras) (3.6.0)\n",
      "Requirement already satisfied: typing-extensions>=4.5.0 in c:\\users\\sayan\\appdata\\local\\programs\\python\\python312\\lib\\site-packages (from optree->keras>=3.2.0->scikeras) (4.13.2)\n",
      "Requirement already satisfied: markdown-it-py>=2.2.0 in c:\\users\\sayan\\appdata\\local\\programs\\python\\python312\\lib\\site-packages (from rich->keras>=3.2.0->scikeras) (3.0.0)\n",
      "Requirement already satisfied: pygments<3.0.0,>=2.13.0 in c:\\users\\sayan\\appdata\\local\\programs\\python\\python312\\lib\\site-packages (from rich->keras>=3.2.0->scikeras) (2.18.0)\n",
      "Requirement already satisfied: mdurl~=0.1 in c:\\users\\sayan\\appdata\\local\\programs\\python\\python312\\lib\\site-packages (from markdown-it-py>=2.2.0->rich->keras>=3.2.0->scikeras) (0.1.2)\n",
      "Note: you may need to restart the kernel to use updated packages.\n"
     ]
    },
    {
     "name": "stderr",
     "output_type": "stream",
     "text": [
      "\n",
      "[notice] A new release of pip is available: 25.0.1 -> 25.1.1\n",
      "[notice] To update, run: python.exe -m pip install --upgrade pip\n"
     ]
    },
    {
     "name": "stdout",
     "output_type": "stream",
     "text": [
      "Collecting pandas_datareaderNote: you may need to restart the kernel to use updated packages.\n",
      "\n",
      "  Downloading pandas_datareader-0.10.0-py3-none-any.whl.metadata (2.9 kB)\n",
      "Collecting lxml (from pandas_datareader)\n",
      "  Downloading lxml-6.0.0-cp312-cp312-win_amd64.whl.metadata (6.8 kB)\n",
      "Requirement already satisfied: pandas>=0.23 in c:\\users\\sayan\\appdata\\local\\programs\\python\\python312\\lib\\site-packages (from pandas_datareader) (2.2.3)\n",
      "Requirement already satisfied: requests>=2.19.0 in c:\\users\\sayan\\appdata\\local\\programs\\python\\python312\\lib\\site-packages (from pandas_datareader) (2.32.3)\n",
      "Requirement already satisfied: numpy>=1.26.0 in c:\\users\\sayan\\appdata\\local\\programs\\python\\python312\\lib\\site-packages (from pandas>=0.23->pandas_datareader) (2.2.5)\n",
      "Requirement already satisfied: python-dateutil>=2.8.2 in c:\\users\\sayan\\appdata\\local\\programs\\python\\python312\\lib\\site-packages (from pandas>=0.23->pandas_datareader) (2.9.0.post0)\n",
      "Requirement already satisfied: pytz>=2020.1 in c:\\users\\sayan\\appdata\\local\\programs\\python\\python312\\lib\\site-packages (from pandas>=0.23->pandas_datareader) (2024.2)\n",
      "Requirement already satisfied: tzdata>=2022.7 in c:\\users\\sayan\\appdata\\local\\programs\\python\\python312\\lib\\site-packages (from pandas>=0.23->pandas_datareader) (2024.2)\n",
      "Requirement already satisfied: charset-normalizer<4,>=2 in c:\\users\\sayan\\appdata\\local\\programs\\python\\python312\\lib\\site-packages (from requests>=2.19.0->pandas_datareader) (3.4.2)\n",
      "Requirement already satisfied: idna<4,>=2.5 in c:\\users\\sayan\\appdata\\local\\programs\\python\\python312\\lib\\site-packages (from requests>=2.19.0->pandas_datareader) (3.10)\n",
      "Requirement already satisfied: urllib3<3,>=1.21.1 in c:\\users\\sayan\\appdata\\local\\programs\\python\\python312\\lib\\site-packages (from requests>=2.19.0->pandas_datareader) (2.4.0)\n",
      "Requirement already satisfied: certifi>=2017.4.17 in c:\\users\\sayan\\appdata\\local\\programs\\python\\python312\\lib\\site-packages (from requests>=2.19.0->pandas_datareader) (2025.4.26)\n",
      "Requirement already satisfied: six>=1.5 in c:\\users\\sayan\\appdata\\local\\programs\\python\\python312\\lib\\site-packages (from python-dateutil>=2.8.2->pandas>=0.23->pandas_datareader) (1.16.0)\n",
      "Downloading pandas_datareader-0.10.0-py3-none-any.whl (109 kB)\n",
      "Downloading lxml-6.0.0-cp312-cp312-win_amd64.whl (4.0 MB)\n",
      "   ---------------------------------------- 0.0/4.0 MB ? eta -:--:--\n",
      "   ---------- ----------------------------- 1.0/4.0 MB 7.1 MB/s eta 0:00:01\n",
      "   ------------------------------- -------- 3.1/4.0 MB 8.4 MB/s eta 0:00:01\n",
      "   ---------------------------------------- 4.0/4.0 MB 8.6 MB/s eta 0:00:00\n",
      "Installing collected packages: lxml, pandas_datareader\n",
      "Successfully installed lxml-6.0.0 pandas_datareader-0.10.0\n"
     ]
    },
    {
     "name": "stderr",
     "output_type": "stream",
     "text": [
      "\n",
      "[notice] A new release of pip is available: 25.0.1 -> 25.1.1\n",
      "[notice] To update, run: python.exe -m pip install --upgrade pip\n"
     ]
    }
   ],
   "source": [
    "#imports from scikit learn\n",
    "from sklearn.linear_model import LinearRegression\n",
    "from sklearn.linear_model import Lasso\n",
    "from sklearn.linear_model import ElasticNet\n",
    "from sklearn.tree import DecisionTreeRegressor\n",
    "from sklearn.neighbors import KNeighborsRegressor\n",
    "from sklearn.svm import SVR\n",
    "from sklearn.ensemble import RandomForestRegressor\n",
    "from sklearn.ensemble import GradientBoostingRegressor\n",
    "from sklearn.ensemble import ExtraTreesRegressor\n",
    "from sklearn.ensemble import AdaBoostRegressor\n",
    "from sklearn.neural_network import MLPRegressor\n",
    "from sklearn import model_selection   \n",
    "from sklearn import metrics\n",
    "\n",
    "%pip install keras\n",
    "\n",
    "#imports from keras\n",
    "from keras.models import Sequential\n",
    "from keras.layers import Dense\n",
    "from keras.optimizers import SGD\n",
    "from keras.layers import LSTM\n",
    "%pip install scikeras\n",
    "\n",
    "from scikeras.wrappers import KerasRegressor\n",
    "\n",
    "#imports of time series models\n",
    "from statsmodels.tsa.arima_model import ARIMA\n",
    "import statsmodels.api as sm\n",
    "\n",
    "#utils\n",
    "import numpy as np\n",
    "import pandas as pd\n",
    "%pip install pandas_datareader\n",
    "import pandas_datareader.data as web\n",
    "from matplotlib import pyplot\n",
    "from pandas.plotting import scatter_matrix\n",
    "import seaborn as sns\n",
    "from sklearn.preprocessing import StandardScaler\n",
    "from pandas.plotting import scatter_matrix\n",
    "from statsmodels.graphics.tsaplots import plot_acf\n",
    "import warnings\n",
    "import openpyxl"
   ]
  },
  {
   "cell_type": "code",
   "execution_count": null,
   "id": "c21f30ac",
   "metadata": {},
   "outputs": [],
   "source": [
    "dataset = pd.read_excel('SCFP2009panel.xlsx')\n"
   ]
  },
  {
   "cell_type": "code",
   "execution_count": 12,
   "id": "3677bc4a",
   "metadata": {},
   "outputs": [
    {
     "data": {
      "text/plain": [
       "(19285, 515)"
      ]
     },
     "execution_count": 12,
     "metadata": {},
     "output_type": "execute_result"
    }
   ],
   "source": [
    "dataset.shape"
   ]
  },
  {
   "cell_type": "code",
   "execution_count": 10,
   "id": "c79df162",
   "metadata": {},
   "outputs": [
    {
     "name": "stdout",
     "output_type": "stream",
     "text": [
      "<class 'pandas.core.frame.DataFrame'>\n",
      "RangeIndex: 19285 entries, 0 to 19284\n",
      "Columns: 515 entries, YY1 to I\n",
      "dtypes: float64(212), int64(303)\n",
      "memory usage: 75.8 MB\n",
      "None\n"
     ]
    }
   ],
   "source": [
    "# -------- BLOCK 3: Exploratory Data Analysis (EDA) --------\n",
    "print(dataset.info())\n",
    "\n",
    "\n"
   ]
  },
  {
   "cell_type": "code",
   "execution_count": 11,
   "id": "c6571eaf",
   "metadata": {},
   "outputs": [
    {
     "name": "stdout",
     "output_type": "stream",
     "text": [
      "                YY1            Y1         WGT09         AGE07       AGECL07  \\\n",
      "count  19285.000000  19285.000000  19285.000000  19285.000000  19285.000000   \n",
      "mean    2222.613689  22229.136894   5868.854779     51.647654      3.228157   \n",
      "std     1275.293152  12752.931600   3881.525292     15.662512      1.494929   \n",
      "min        1.000000     11.000000      0.885319     19.000000      1.000000   \n",
      "25%     1130.000000  11302.000000   1992.217143     40.000000      2.000000   \n",
      "50%     2233.000000  22333.000000   6756.245225     51.000000      3.000000   \n",
      "75%     3323.000000  33234.000000   8538.990444     62.000000      4.000000   \n",
      "max     4423.000000  44235.000000  17895.936632     95.000000      6.000000   \n",
      "\n",
      "             EDUC07        EDCL07     MARRIED07        KIDS07      LIFECL07  \\\n",
      "count  19285.000000  19285.000000  19285.000000  19285.000000  19285.000000   \n",
      "mean      14.072855      3.055535      1.314752      0.876588      3.792585   \n",
      "std        2.733539      1.055146      0.464429      1.200590      1.598757   \n",
      "min       -1.000000      1.000000      1.000000      0.000000      1.000000   \n",
      "25%       12.000000      2.000000      1.000000      0.000000      3.000000   \n",
      "50%       14.000000      3.000000      1.000000      0.000000      4.000000   \n",
      "75%       16.000000      4.000000      2.000000      2.000000      5.000000   \n",
      "max       17.000000      4.000000      2.000000     10.000000      6.000000   \n",
      "\n",
      "       ...     NHMORTPCT    WAGEINCPCT  BUSSEFARMINCPCT  INTDIVINCPCT  \\\n",
      "count  ...  1.928500e+04  1.928500e+04     1.928500e+04  1.928500e+04   \n",
      "mean   ...  9.768241e+05  7.842138e+05     5.230099e+05  1.513447e+05   \n",
      "std    ...  1.142686e+07  1.869723e+07     1.360353e+07  5.184665e+06   \n",
      "min    ... -1.000000e+02 -1.000000e+02    -1.016805e+08 -2.603585e+02   \n",
      "25%    ... -5.405405e+00 -2.115196e+01    -6.457549e+00 -2.867388e+01   \n",
      "50%    ...  0.000000e+00  0.000000e+00     0.000000e+00  0.000000e+00   \n",
      "75%    ...  0.000000e+00  1.692806e+01     0.000000e+00  0.000000e+00   \n",
      "max    ...  5.000000e+08  1.095825e+09     7.471537e+08  3.094213e+08   \n",
      "\n",
      "           KGINCPCT   SSRETINCPCT  TRANSFOTHINCPCT    PSAVINGPCT  \\\n",
      "count  1.928500e+04  1.928500e+04     1.928500e+04  1.928500e+04   \n",
      "mean   4.315485e+05  2.546299e+05     3.037898e+05  5.416303e+05   \n",
      "std    3.384363e+07  4.677663e+06     3.916706e+06  2.036640e+07   \n",
      "min   -9.962049e+07 -1.000000e+02    -8.168880e+06 -1.009656e+02   \n",
      "25%    0.000000e+00  0.000000e+00     0.000000e+00 -3.562493e+01   \n",
      "50%    0.000000e+00  0.000000e+00     0.000000e+00  3.794657e+01   \n",
      "75%    0.000000e+00  0.000000e+00     0.000000e+00  2.225191e+02   \n",
      "max    1.870849e+09  2.717647e+08     1.225332e+08  8.860001e+08   \n",
      "\n",
      "        LEVERAGEPCT        I  \n",
      "count  1.928500e+04  19285.0  \n",
      "mean   4.306108e+05     57.0  \n",
      "std    2.116043e+07      0.0  \n",
      "min   -1.000000e+02     57.0  \n",
      "25%   -2.584808e+01     57.0  \n",
      "50%    0.000000e+00     57.0  \n",
      "75%    6.344615e+01     57.0  \n",
      "max    1.721023e+09     57.0  \n",
      "\n",
      "[8 rows x 515 columns]\n"
     ]
    }
   ],
   "source": [
    "print(dataset.describe())"
   ]
  },
  {
   "cell_type": "code",
   "execution_count": 13,
   "id": "d3797e12",
   "metadata": {},
   "outputs": [],
   "source": [
    "# Compute the risky assets and risk-free assets\n",
    "dataset['RiskFree07']= dataset['LIQ07'] + dataset['CDS07'] + dataset['SAVBND07'] + dataset['CASHLI07']\n",
    "dataset['Risky07'] = dataset['NMMF07'] + dataset['STOCKS07'] + dataset['BOND07']\n",
    "dataset['RiskFree09'] = dataset['LIQ09'] + dataset['CDS09'] + dataset['SAVBND09'] + dataset['CASHLI09']\n",
    "dataset['Risky09'] = dataset['NMMF09'] + dataset['STOCKS09'] + dataset['BOND09']"
   ]
  },
  {
   "cell_type": "code",
   "execution_count": 14,
   "id": "277a8749",
   "metadata": {},
   "outputs": [],
   "source": [
    "# Compute the risk tolerance for 2007\n",
    "dataset['RT07'] = dataset['Risky07']/ (dataset['Risky07']+dataset['RiskFree07'])\n",
    "#Average stock index for normalizing the risky assets in 2009\n",
    "Average_SP500_2007=1478\n",
    "Average_SP500_2009=948\n",
    "# Compute the risk tolerance for 2009\n",
    "dataset['RT09'] = dataset['Risky09']/(dataset['Risky09']+dataset['RiskFree09'])*(Average_SP500_2009/Average_SP500_2007)"
   ]
  },
  {
   "cell_type": "code",
   "execution_count": 15,
   "id": "ac7ab9dd",
   "metadata": {},
   "outputs": [
    {
     "data": {
      "application/vnd.microsoft.datawrangler.viewer.v0+json": {
       "columns": [
        {
         "name": "index",
         "rawType": "int64",
         "type": "integer"
        },
        {
         "name": "YY1",
         "rawType": "int64",
         "type": "integer"
        },
        {
         "name": "Y1",
         "rawType": "int64",
         "type": "integer"
        },
        {
         "name": "WGT09",
         "rawType": "float64",
         "type": "float"
        },
        {
         "name": "AGE07",
         "rawType": "int64",
         "type": "integer"
        },
        {
         "name": "AGECL07",
         "rawType": "int64",
         "type": "integer"
        },
        {
         "name": "EDUC07",
         "rawType": "int64",
         "type": "integer"
        },
        {
         "name": "EDCL07",
         "rawType": "int64",
         "type": "integer"
        },
        {
         "name": "MARRIED07",
         "rawType": "int64",
         "type": "integer"
        },
        {
         "name": "KIDS07",
         "rawType": "int64",
         "type": "integer"
        },
        {
         "name": "LIFECL07",
         "rawType": "int64",
         "type": "integer"
        },
        {
         "name": "FAMSTRUCT07",
         "rawType": "int64",
         "type": "integer"
        },
        {
         "name": "RACECL",
         "rawType": "int64",
         "type": "integer"
        },
        {
         "name": "H_RACECL",
         "rawType": "int64",
         "type": "integer"
        },
        {
         "name": "RACE",
         "rawType": "int64",
         "type": "integer"
        },
        {
         "name": "H_RACE",
         "rawType": "int64",
         "type": "integer"
        },
        {
         "name": "OCCAT107",
         "rawType": "int64",
         "type": "integer"
        },
        {
         "name": "OCCAT207",
         "rawType": "int64",
         "type": "integer"
        },
        {
         "name": "INDCAT07",
         "rawType": "int64",
         "type": "integer"
        },
        {
         "name": "HHEALTH07",
         "rawType": "int64",
         "type": "integer"
        },
        {
         "name": "SPHEALTH07",
         "rawType": "int64",
         "type": "integer"
        },
        {
         "name": "INCOME07",
         "rawType": "float64",
         "type": "float"
        },
        {
         "name": "WAGEINC07",
         "rawType": "float64",
         "type": "float"
        },
        {
         "name": "BUSSEFARMINC07",
         "rawType": "float64",
         "type": "float"
        },
        {
         "name": "INTDIVINC07",
         "rawType": "float64",
         "type": "float"
        },
        {
         "name": "KGINC07",
         "rawType": "float64",
         "type": "float"
        },
        {
         "name": "SSRETINC07",
         "rawType": "float64",
         "type": "float"
        },
        {
         "name": "TRANSFOTHINC07",
         "rawType": "float64",
         "type": "float"
        },
        {
         "name": "PENACCTWD07",
         "rawType": "int64",
         "type": "integer"
        },
        {
         "name": "NORMINC07",
         "rawType": "float64",
         "type": "float"
        },
        {
         "name": "RISK07",
         "rawType": "int64",
         "type": "integer"
        },
        {
         "name": "PSAVING07",
         "rawType": "float64",
         "type": "float"
        },
        {
         "name": "WSAVED07",
         "rawType": "int64",
         "type": "integer"
        },
        {
         "name": "SAVED07",
         "rawType": "int64",
         "type": "integer"
        },
        {
         "name": "SAVRES1",
         "rawType": "int64",
         "type": "integer"
        },
        {
         "name": "SAVRES2",
         "rawType": "int64",
         "type": "integer"
        },
        {
         "name": "SAVRES3",
         "rawType": "int64",
         "type": "integer"
        },
        {
         "name": "SAVRES4",
         "rawType": "int64",
         "type": "integer"
        },
        {
         "name": "SAVRES5",
         "rawType": "int64",
         "type": "integer"
        },
        {
         "name": "SAVRES6",
         "rawType": "int64",
         "type": "integer"
        },
        {
         "name": "SAVRES7",
         "rawType": "int64",
         "type": "integer"
        },
        {
         "name": "SAVRES8",
         "rawType": "int64",
         "type": "integer"
        },
        {
         "name": "SAVRES9",
         "rawType": "int64",
         "type": "integer"
        },
        {
         "name": "SPENDMOR07",
         "rawType": "int64",
         "type": "integer"
        },
        {
         "name": "LATE6007",
         "rawType": "int64",
         "type": "integer"
        },
        {
         "name": "USPELL07",
         "rawType": "int64",
         "type": "integer"
        },
        {
         "name": "AGEFT07",
         "rawType": "int64",
         "type": "integer"
        },
        {
         "name": "AGEALL07",
         "rawType": "int64",
         "type": "integer"
        },
        {
         "name": "POSTRWORK07",
         "rawType": "int64",
         "type": "integer"
        },
        {
         "name": "RFULL07",
         "rawType": "int64",
         "type": "integer"
        },
        {
         "name": "BSHOPNONE07",
         "rawType": "int64",
         "type": "integer"
        },
        {
         "name": "BSHOPGRDL07",
         "rawType": "int64",
         "type": "integer"
        },
        {
         "name": "BSHOPMODR07",
         "rawType": "int64",
         "type": "integer"
        },
        {
         "name": "ISHOPNONE07",
         "rawType": "int64",
         "type": "integer"
        },
        {
         "name": "ISHOPGRDL07",
         "rawType": "int64",
         "type": "integer"
        },
        {
         "name": "ISHOPMODR07",
         "rawType": "int64",
         "type": "integer"
        },
        {
         "name": "BCALL07",
         "rawType": "int64",
         "type": "integer"
        },
        {
         "name": "BMAGZNEWS07",
         "rawType": "int64",
         "type": "integer"
        },
        {
         "name": "BMAILADTV07",
         "rawType": "int64",
         "type": "integer"
        },
        {
         "name": "BINTERNET07",
         "rawType": "int64",
         "type": "integer"
        },
        {
         "name": "BFRIENDWORK07",
         "rawType": "int64",
         "type": "integer"
        },
        {
         "name": "BFINPRO07",
         "rawType": "int64",
         "type": "integer"
        },
        {
         "name": "BSELF07",
         "rawType": "int64",
         "type": "integer"
        },
        {
         "name": "BDONT07",
         "rawType": "int64",
         "type": "integer"
        },
        {
         "name": "BOTHER07",
         "rawType": "int64",
         "type": "integer"
        },
        {
         "name": "ICALL07",
         "rawType": "int64",
         "type": "integer"
        },
        {
         "name": "IMAGZNEWS07",
         "rawType": "int64",
         "type": "integer"
        },
        {
         "name": "IMAILADTV07",
         "rawType": "int64",
         "type": "integer"
        },
        {
         "name": "IINTERNET07",
         "rawType": "int64",
         "type": "integer"
        },
        {
         "name": "IFRIENDWORK07",
         "rawType": "int64",
         "type": "integer"
        },
        {
         "name": "IFINPRO07",
         "rawType": "int64",
         "type": "integer"
        },
        {
         "name": "ISELF07",
         "rawType": "int64",
         "type": "integer"
        },
        {
         "name": "IDONT07",
         "rawType": "int64",
         "type": "integer"
        },
        {
         "name": "IOTHER07",
         "rawType": "int64",
         "type": "integer"
        },
        {
         "name": "BFINPLAN07",
         "rawType": "int64",
         "type": "integer"
        },
        {
         "name": "IFINPLAN07",
         "rawType": "int64",
         "type": "integer"
        },
        {
         "name": "APPLIED07",
         "rawType": "int64",
         "type": "integer"
        },
        {
         "name": "DENIED07",
         "rawType": "int64",
         "type": "integer"
        },
        {
         "name": "FULLAMT07",
         "rawType": "int64",
         "type": "integer"
        },
        {
         "name": "FEARED07",
         "rawType": "int64",
         "type": "integer"
        },
        {
         "name": "CHECKING07",
         "rawType": "float64",
         "type": "float"
        },
        {
         "name": "HCHECK07",
         "rawType": "int64",
         "type": "integer"
        },
        {
         "name": "NOCHK07",
         "rawType": "int64",
         "type": "integer"
        },
        {
         "name": "MSAVING07",
         "rawType": "int64",
         "type": "integer"
        },
        {
         "name": "HSAVING07",
         "rawType": "int64",
         "type": "integer"
        },
        {
         "name": "HMMA07",
         "rawType": "int64",
         "type": "integer"
        },
        {
         "name": "CALL07",
         "rawType": "float64",
         "type": "float"
        },
        {
         "name": "HCALL07",
         "rawType": "int64",
         "type": "integer"
        },
        {
         "name": "LIQ07",
         "rawType": "float64",
         "type": "float"
        },
        {
         "name": "HLIQ07",
         "rawType": "int64",
         "type": "integer"
        },
        {
         "name": "CDS07",
         "rawType": "float64",
         "type": "float"
        },
        {
         "name": "HCDS07",
         "rawType": "int64",
         "type": "integer"
        },
        {
         "name": "NMMF07",
         "rawType": "float64",
         "type": "float"
        },
        {
         "name": "HNMMF07",
         "rawType": "int64",
         "type": "integer"
        },
        {
         "name": "STOCKS07",
         "rawType": "float64",
         "type": "float"
        },
        {
         "name": "HSTOCKS07",
         "rawType": "int64",
         "type": "integer"
        },
        {
         "name": "NSTOCKS07",
         "rawType": "int64",
         "type": "integer"
        },
        {
         "name": "WILSH07",
         "rawType": "int64",
         "type": "integer"
        },
        {
         "name": "BOND07",
         "rawType": "float64",
         "type": "float"
        },
        {
         "name": "HBOND07",
         "rawType": "int64",
         "type": "integer"
        },
        {
         "name": "IRAKH07",
         "rawType": "float64",
         "type": "float"
        },
        {
         "name": "THRIFT07",
         "rawType": "float64",
         "type": "float"
        },
        {
         "name": "PENEQ07",
         "rawType": "float64",
         "type": "float"
        },
        {
         "name": "RETQLIQ07",
         "rawType": "float64",
         "type": "float"
        },
        {
         "name": "HRETQLIQ07",
         "rawType": "int64",
         "type": "integer"
        },
        {
         "name": "ANYPEN07",
         "rawType": "int64",
         "type": "integer"
        },
        {
         "name": "DBPLANCJ07",
         "rawType": "int64",
         "type": "integer"
        },
        {
         "name": "DBPLANT07",
         "rawType": "int64",
         "type": "integer"
        },
        {
         "name": "DCPLANCJ07",
         "rawType": "int64",
         "type": "integer"
        },
        {
         "name": "BPLANCJ07",
         "rawType": "int64",
         "type": "integer"
        },
        {
         "name": "SAVBND07",
         "rawType": "float64",
         "type": "float"
        },
        {
         "name": "HSAVBND07",
         "rawType": "int64",
         "type": "integer"
        },
        {
         "name": "CASHLI07",
         "rawType": "float64",
         "type": "float"
        },
        {
         "name": "HCASHLI07",
         "rawType": "int64",
         "type": "integer"
        },
        {
         "name": "ANNUIT07",
         "rawType": "float64",
         "type": "float"
        },
        {
         "name": "TRUSTS07",
         "rawType": "float64",
         "type": "float"
        },
        {
         "name": "OTHMA07",
         "rawType": "float64",
         "type": "float"
        },
        {
         "name": "HOTHMA07",
         "rawType": "int64",
         "type": "integer"
        },
        {
         "name": "OTHFIN07",
         "rawType": "float64",
         "type": "float"
        },
        {
         "name": "HOTHFIN07",
         "rawType": "int64",
         "type": "integer"
        },
        {
         "name": "EQUITY07",
         "rawType": "float64",
         "type": "float"
        },
        {
         "name": "HEQUITY07",
         "rawType": "int64",
         "type": "integer"
        },
        {
         "name": "DEQ07",
         "rawType": "float64",
         "type": "float"
        },
        {
         "name": "RETEQ07",
         "rawType": "float64",
         "type": "float"
        },
        {
         "name": "EQUITINC07",
         "rawType": "float64",
         "type": "float"
        },
        {
         "name": "HBROK07",
         "rawType": "int64",
         "type": "integer"
        },
        {
         "name": "HTRAD07",
         "rawType": "int64",
         "type": "integer"
        },
        {
         "name": "NTRAD07",
         "rawType": "int64",
         "type": "integer"
        },
        {
         "name": "FIN07",
         "rawType": "float64",
         "type": "float"
        },
        {
         "name": "HFIN07",
         "rawType": "int64",
         "type": "integer"
        },
        {
         "name": "VEHIC07",
         "rawType": "float64",
         "type": "float"
        },
        {
         "name": "HVEHIC07",
         "rawType": "int64",
         "type": "integer"
        },
        {
         "name": "BUSVEH07",
         "rawType": "int64",
         "type": "integer"
        },
        {
         "name": "NBUSVEH07",
         "rawType": "int64",
         "type": "integer"
        },
        {
         "name": "OWN07",
         "rawType": "int64",
         "type": "integer"
        },
        {
         "name": "NOWN07",
         "rawType": "int64",
         "type": "integer"
        },
        {
         "name": "VOWN07",
         "rawType": "float64",
         "type": "float"
        },
        {
         "name": "LEASE07",
         "rawType": "int64",
         "type": "integer"
        },
        {
         "name": "NLEASE07",
         "rawType": "int64",
         "type": "integer"
        },
        {
         "name": "NVEHIC07",
         "rawType": "int64",
         "type": "integer"
        },
        {
         "name": "HOUSES07",
         "rawType": "float64",
         "type": "float"
        },
        {
         "name": "HHOUSES07",
         "rawType": "int64",
         "type": "integer"
        },
        {
         "name": "HOUSECL07",
         "rawType": "int64",
         "type": "integer"
        },
        {
         "name": "ORESRE07",
         "rawType": "float64",
         "type": "float"
        },
        {
         "name": "HORESRE07",
         "rawType": "int64",
         "type": "integer"
        },
        {
         "name": "NNRESRE07",
         "rawType": "float64",
         "type": "float"
        },
        {
         "name": "HNNRESRE07",
         "rawType": "int64",
         "type": "integer"
        },
        {
         "name": "BUS07",
         "rawType": "float64",
         "type": "float"
        },
        {
         "name": "ACTBUS07",
         "rawType": "float64",
         "type": "float"
        },
        {
         "name": "NONACTBUS07",
         "rawType": "float64",
         "type": "float"
        },
        {
         "name": "HBUS07",
         "rawType": "int64",
         "type": "integer"
        },
        {
         "name": "HABUS07",
         "rawType": "int64",
         "type": "integer"
        },
        {
         "name": "OTHNFIN07",
         "rawType": "float64",
         "type": "float"
        },
        {
         "name": "HOTHNFIN07",
         "rawType": "int64",
         "type": "integer"
        },
        {
         "name": "NFIN07",
         "rawType": "float64",
         "type": "float"
        },
        {
         "name": "HNFIN07",
         "rawType": "int64",
         "type": "integer"
        },
        {
         "name": "NHNFIN07",
         "rawType": "float64",
         "type": "float"
        },
        {
         "name": "ASSET07",
         "rawType": "float64",
         "type": "float"
        },
        {
         "name": "HASSET07",
         "rawType": "int64",
         "type": "integer"
        },
        {
         "name": "HELOC07",
         "rawType": "float64",
         "type": "float"
        },
        {
         "name": "MRTHEL07",
         "rawType": "float64",
         "type": "float"
        },
        {
         "name": "NHMORT07",
         "rawType": "float64",
         "type": "float"
        },
        {
         "name": "HOMEEQ07",
         "rawType": "float64",
         "type": "float"
        },
        {
         "name": "HMRTHEL07",
         "rawType": "int64",
         "type": "integer"
        },
        {
         "name": "HHELOC07",
         "rawType": "int64",
         "type": "integer"
        },
        {
         "name": "HNHMORT07",
         "rawType": "int64",
         "type": "integer"
        },
        {
         "name": "HPRIMMORT07",
         "rawType": "int64",
         "type": "integer"
        },
        {
         "name": "PURCH107",
         "rawType": "int64",
         "type": "integer"
        },
        {
         "name": "REFINEVER07",
         "rawType": "int64",
         "type": "integer"
        },
        {
         "name": "FGUARANTEE07",
         "rawType": "int64",
         "type": "integer"
        },
        {
         "name": "FHA07",
         "rawType": "int64",
         "type": "integer"
        },
        {
         "name": "HSECMORT07",
         "rawType": "int64",
         "type": "integer"
        },
        {
         "name": "HELOCYN07",
         "rawType": "int64",
         "type": "integer"
        },
        {
         "name": "ADJM107",
         "rawType": "int64",
         "type": "integer"
        },
        {
         "name": "ADJM207",
         "rawType": "int64",
         "type": "integer"
        },
        {
         "name": "ONTIMEM107",
         "rawType": "int64",
         "type": "integer"
        },
        {
         "name": "ONTIMEM207",
         "rawType": "int64",
         "type": "integer"
        },
        {
         "name": "OTHLOC07",
         "rawType": "float64",
         "type": "float"
        },
        {
         "name": "HOTHLOC07",
         "rawType": "int64",
         "type": "integer"
        },
        {
         "name": "RESDBT07",
         "rawType": "float64",
         "type": "float"
        },
        {
         "name": "HRESDBT07",
         "rawType": "int64",
         "type": "integer"
        },
        {
         "name": "CCBAL07",
         "rawType": "float64",
         "type": "float"
        },
        {
         "name": "HCCBAL07",
         "rawType": "int64",
         "type": "integer"
        },
        {
         "name": "VEHINST07",
         "rawType": "float64",
         "type": "float"
        },
        {
         "name": "EDNINST07",
         "rawType": "float64",
         "type": "float"
        },
        {
         "name": "INSTALL07",
         "rawType": "float64",
         "type": "float"
        },
        {
         "name": "OTHINST07",
         "rawType": "float64",
         "type": "float"
        },
        {
         "name": "HVEHINST07",
         "rawType": "float64",
         "type": "float"
        },
        {
         "name": "HEDNINST07",
         "rawType": "float64",
         "type": "float"
        },
        {
         "name": "HOTHINST07",
         "rawType": "float64",
         "type": "float"
        },
        {
         "name": "HINSTALL07",
         "rawType": "int64",
         "type": "integer"
        },
        {
         "name": "ODEBT07",
         "rawType": "float64",
         "type": "float"
        },
        {
         "name": "HODEBT07",
         "rawType": "int64",
         "type": "integer"
        },
        {
         "name": "DEBT07",
         "rawType": "float64",
         "type": "float"
        },
        {
         "name": "HDEBT07",
         "rawType": "int64",
         "type": "integer"
        },
        {
         "name": "NETWORTH07",
         "rawType": "float64",
         "type": "float"
        },
        {
         "name": "TPAY07",
         "rawType": "float64",
         "type": "float"
        },
        {
         "name": "MORTPAY07",
         "rawType": "float64",
         "type": "float"
        },
        {
         "name": "CONSPAY07",
         "rawType": "float64",
         "type": "float"
        },
        {
         "name": "REVPAY07",
         "rawType": "float64",
         "type": "float"
        },
        {
         "name": "PIRTOTAL07",
         "rawType": "float64",
         "type": "float"
        },
        {
         "name": "PIRMORT07",
         "rawType": "float64",
         "type": "float"
        },
        {
         "name": "PIRCONS07",
         "rawType": "float64",
         "type": "float"
        },
        {
         "name": "PIRREV07",
         "rawType": "float64",
         "type": "float"
        },
        {
         "name": "INCCL207",
         "rawType": "int64",
         "type": "integer"
        },
        {
         "name": "NWCAT07",
         "rawType": "int64",
         "type": "integer"
        },
        {
         "name": "INCCAT07",
         "rawType": "int64",
         "type": "integer"
        },
        {
         "name": "ASSETCAT07",
         "rawType": "int64",
         "type": "integer"
        },
        {
         "name": "HIPIR07",
         "rawType": "int64",
         "type": "integer"
        },
        {
         "name": "LEVERAGE07",
         "rawType": "float64",
         "type": "float"
        },
        {
         "name": "AGE09",
         "rawType": "int64",
         "type": "integer"
        },
        {
         "name": "AGECL09",
         "rawType": "int64",
         "type": "integer"
        },
        {
         "name": "EDUC09",
         "rawType": "int64",
         "type": "integer"
        },
        {
         "name": "EDCL09",
         "rawType": "int64",
         "type": "integer"
        },
        {
         "name": "MARRIED09",
         "rawType": "int64",
         "type": "integer"
        },
        {
         "name": "KIDS09",
         "rawType": "int64",
         "type": "integer"
        },
        {
         "name": "LIFECL09",
         "rawType": "int64",
         "type": "integer"
        },
        {
         "name": "FAMSTRUCT09",
         "rawType": "int64",
         "type": "integer"
        },
        {
         "name": "OCCAT109",
         "rawType": "int64",
         "type": "integer"
        },
        {
         "name": "OCCAT209",
         "rawType": "int64",
         "type": "integer"
        },
        {
         "name": "INDCAT09",
         "rawType": "int64",
         "type": "integer"
        },
        {
         "name": "HHEALTH09",
         "rawType": "int64",
         "type": "integer"
        },
        {
         "name": "SPHEALTH09",
         "rawType": "int64",
         "type": "integer"
        },
        {
         "name": "INCOME09",
         "rawType": "float64",
         "type": "float"
        },
        {
         "name": "WAGEINC09",
         "rawType": "float64",
         "type": "float"
        },
        {
         "name": "BUSSEFARMINC09",
         "rawType": "float64",
         "type": "float"
        },
        {
         "name": "INTDIVINC09",
         "rawType": "float64",
         "type": "float"
        },
        {
         "name": "KGINC09",
         "rawType": "float64",
         "type": "float"
        },
        {
         "name": "SSRETINC09",
         "rawType": "float64",
         "type": "float"
        },
        {
         "name": "TRANSFOTHINC09",
         "rawType": "float64",
         "type": "float"
        },
        {
         "name": "PENACCTWD09",
         "rawType": "int64",
         "type": "integer"
        },
        {
         "name": "NORMINC09",
         "rawType": "float64",
         "type": "float"
        },
        {
         "name": "RISK09",
         "rawType": "int64",
         "type": "integer"
        },
        {
         "name": "PSAVING09",
         "rawType": "int64",
         "type": "integer"
        },
        {
         "name": "WSAVED09",
         "rawType": "int64",
         "type": "integer"
        },
        {
         "name": "SAVED09",
         "rawType": "int64",
         "type": "integer"
        },
        {
         "name": "SPENDMOR09",
         "rawType": "int64",
         "type": "integer"
        },
        {
         "name": "LATE6009",
         "rawType": "int64",
         "type": "integer"
        },
        {
         "name": "USPELL09",
         "rawType": "int64",
         "type": "integer"
        },
        {
         "name": "AGEFT09",
         "rawType": "int64",
         "type": "integer"
        },
        {
         "name": "AGEALL09",
         "rawType": "int64",
         "type": "integer"
        },
        {
         "name": "POSTRWORK09",
         "rawType": "int64",
         "type": "integer"
        },
        {
         "name": "RFULL09",
         "rawType": "int64",
         "type": "integer"
        },
        {
         "name": "BSHOPNONE09",
         "rawType": "int64",
         "type": "integer"
        },
        {
         "name": "BSHOPGRDL09",
         "rawType": "int64",
         "type": "integer"
        },
        {
         "name": "BSHOPMODR09",
         "rawType": "int64",
         "type": "integer"
        },
        {
         "name": "ISHOPNONE09",
         "rawType": "int64",
         "type": "integer"
        },
        {
         "name": "ISHOPGRDL09",
         "rawType": "int64",
         "type": "integer"
        },
        {
         "name": "ISHOPMODR09",
         "rawType": "int64",
         "type": "integer"
        },
        {
         "name": "BCALL09",
         "rawType": "int64",
         "type": "integer"
        },
        {
         "name": "BMAGZNEWS09",
         "rawType": "int64",
         "type": "integer"
        },
        {
         "name": "BMAILADTV09",
         "rawType": "int64",
         "type": "integer"
        },
        {
         "name": "BINTERNET09",
         "rawType": "int64",
         "type": "integer"
        },
        {
         "name": "BFRIENDWORK09",
         "rawType": "int64",
         "type": "integer"
        },
        {
         "name": "BFINPRO09",
         "rawType": "int64",
         "type": "integer"
        },
        {
         "name": "BSELF09",
         "rawType": "int64",
         "type": "integer"
        },
        {
         "name": "BDONT09",
         "rawType": "int64",
         "type": "integer"
        },
        {
         "name": "BOTHER09",
         "rawType": "int64",
         "type": "integer"
        },
        {
         "name": "ICALL09",
         "rawType": "int64",
         "type": "integer"
        },
        {
         "name": "IMAGZNEWS09",
         "rawType": "int64",
         "type": "integer"
        },
        {
         "name": "IMAILADTV09",
         "rawType": "int64",
         "type": "integer"
        },
        {
         "name": "IINTERNET09",
         "rawType": "int64",
         "type": "integer"
        },
        {
         "name": "IFRIENDWORK09",
         "rawType": "int64",
         "type": "integer"
        },
        {
         "name": "IFINPRO09",
         "rawType": "int64",
         "type": "integer"
        },
        {
         "name": "ISELF09",
         "rawType": "int64",
         "type": "integer"
        },
        {
         "name": "IDONT09",
         "rawType": "int64",
         "type": "integer"
        },
        {
         "name": "IOTHER09",
         "rawType": "int64",
         "type": "integer"
        },
        {
         "name": "BFINPLAN09",
         "rawType": "int64",
         "type": "integer"
        },
        {
         "name": "IFINPLAN09",
         "rawType": "int64",
         "type": "integer"
        },
        {
         "name": "APPLIED09",
         "rawType": "int64",
         "type": "integer"
        },
        {
         "name": "DENIED09",
         "rawType": "int64",
         "type": "integer"
        },
        {
         "name": "FULLAMT09",
         "rawType": "int64",
         "type": "integer"
        },
        {
         "name": "FEARED09",
         "rawType": "int64",
         "type": "integer"
        },
        {
         "name": "CHECKING09",
         "rawType": "int64",
         "type": "integer"
        },
        {
         "name": "HCHECK09",
         "rawType": "int64",
         "type": "integer"
        },
        {
         "name": "NOCHK09",
         "rawType": "int64",
         "type": "integer"
        },
        {
         "name": "MSAVING09",
         "rawType": "int64",
         "type": "integer"
        },
        {
         "name": "HSAVING09",
         "rawType": "int64",
         "type": "integer"
        },
        {
         "name": "HMMA09",
         "rawType": "int64",
         "type": "integer"
        },
        {
         "name": "CALL09",
         "rawType": "int64",
         "type": "integer"
        },
        {
         "name": "HCALL09",
         "rawType": "int64",
         "type": "integer"
        },
        {
         "name": "LIQ09",
         "rawType": "int64",
         "type": "integer"
        },
        {
         "name": "HLIQ09",
         "rawType": "int64",
         "type": "integer"
        },
        {
         "name": "CDS09",
         "rawType": "int64",
         "type": "integer"
        },
        {
         "name": "HCDS09",
         "rawType": "int64",
         "type": "integer"
        },
        {
         "name": "NMMF09",
         "rawType": "int64",
         "type": "integer"
        },
        {
         "name": "HNMMF09",
         "rawType": "int64",
         "type": "integer"
        },
        {
         "name": "STOCKS09",
         "rawType": "int64",
         "type": "integer"
        },
        {
         "name": "HSTOCKS09",
         "rawType": "int64",
         "type": "integer"
        },
        {
         "name": "NSTOCKS09",
         "rawType": "int64",
         "type": "integer"
        },
        {
         "name": "WILSH",
         "rawType": "int64",
         "type": "integer"
        },
        {
         "name": "BOND09",
         "rawType": "int64",
         "type": "integer"
        },
        {
         "name": "HBOND09",
         "rawType": "int64",
         "type": "integer"
        },
        {
         "name": "IRAKH09",
         "rawType": "int64",
         "type": "integer"
        },
        {
         "name": "THRIFT09",
         "rawType": "int64",
         "type": "integer"
        },
        {
         "name": "PENEQ09",
         "rawType": "float64",
         "type": "float"
        },
        {
         "name": "RETQLIQ09",
         "rawType": "int64",
         "type": "integer"
        },
        {
         "name": "HRETQLIQ09",
         "rawType": "int64",
         "type": "integer"
        },
        {
         "name": "ANYPEN09",
         "rawType": "int64",
         "type": "integer"
        },
        {
         "name": "DBPLANCJ09",
         "rawType": "int64",
         "type": "integer"
        },
        {
         "name": "DBPLANT09",
         "rawType": "int64",
         "type": "integer"
        },
        {
         "name": "DCPLANCJ09",
         "rawType": "int64",
         "type": "integer"
        },
        {
         "name": "BPLANCJ09",
         "rawType": "int64",
         "type": "integer"
        },
        {
         "name": "SAVBND09",
         "rawType": "int64",
         "type": "integer"
        },
        {
         "name": "HSAVBND09",
         "rawType": "int64",
         "type": "integer"
        },
        {
         "name": "CASHLI09",
         "rawType": "int64",
         "type": "integer"
        },
        {
         "name": "HCASHLI09",
         "rawType": "int64",
         "type": "integer"
        },
        {
         "name": "ANNUIT09",
         "rawType": "int64",
         "type": "integer"
        },
        {
         "name": "TRUSTS09",
         "rawType": "int64",
         "type": "integer"
        },
        {
         "name": "OTHMA09",
         "rawType": "int64",
         "type": "integer"
        },
        {
         "name": "HOTHMA09",
         "rawType": "int64",
         "type": "integer"
        },
        {
         "name": "OTHFIN09",
         "rawType": "int64",
         "type": "integer"
        },
        {
         "name": "HOTHFIN09",
         "rawType": "int64",
         "type": "integer"
        },
        {
         "name": "EQUITY09",
         "rawType": "float64",
         "type": "float"
        },
        {
         "name": "HEQUITY09",
         "rawType": "int64",
         "type": "integer"
        },
        {
         "name": "DEQ09",
         "rawType": "int64",
         "type": "integer"
        },
        {
         "name": "RETEQ09",
         "rawType": "float64",
         "type": "float"
        },
        {
         "name": "EQUITINC09",
         "rawType": "float64",
         "type": "float"
        },
        {
         "name": "HBROK09",
         "rawType": "int64",
         "type": "integer"
        },
        {
         "name": "HTRAD09",
         "rawType": "int64",
         "type": "integer"
        },
        {
         "name": "NTRAD09",
         "rawType": "int64",
         "type": "integer"
        },
        {
         "name": "FIN09",
         "rawType": "int64",
         "type": "integer"
        },
        {
         "name": "HFIN09",
         "rawType": "int64",
         "type": "integer"
        },
        {
         "name": "VEHIC09",
         "rawType": "int64",
         "type": "integer"
        },
        {
         "name": "HVEHIC09",
         "rawType": "int64",
         "type": "integer"
        },
        {
         "name": "BUSVEH09",
         "rawType": "int64",
         "type": "integer"
        },
        {
         "name": "NBUSVEH09",
         "rawType": "int64",
         "type": "integer"
        },
        {
         "name": "OWN09",
         "rawType": "int64",
         "type": "integer"
        },
        {
         "name": "NOWN09",
         "rawType": "int64",
         "type": "integer"
        },
        {
         "name": "VOWN09",
         "rawType": "int64",
         "type": "integer"
        },
        {
         "name": "LEASE09",
         "rawType": "int64",
         "type": "integer"
        },
        {
         "name": "NLEASE09",
         "rawType": "int64",
         "type": "integer"
        },
        {
         "name": "NVEHIC09",
         "rawType": "int64",
         "type": "integer"
        },
        {
         "name": "HOUSES09",
         "rawType": "float64",
         "type": "float"
        },
        {
         "name": "HHOUSES09",
         "rawType": "int64",
         "type": "integer"
        },
        {
         "name": "HOUSECL09",
         "rawType": "int64",
         "type": "integer"
        },
        {
         "name": "ORESRE09",
         "rawType": "int64",
         "type": "integer"
        },
        {
         "name": "HORESRE09",
         "rawType": "int64",
         "type": "integer"
        },
        {
         "name": "NNRESRE09",
         "rawType": "int64",
         "type": "integer"
        },
        {
         "name": "HNNRESRE09",
         "rawType": "int64",
         "type": "integer"
        },
        {
         "name": "BUS09",
         "rawType": "float64",
         "type": "float"
        },
        {
         "name": "ACTBUS09",
         "rawType": "float64",
         "type": "float"
        },
        {
         "name": "NONACTBUS09",
         "rawType": "int64",
         "type": "integer"
        },
        {
         "name": "HBUS09",
         "rawType": "int64",
         "type": "integer"
        },
        {
         "name": "HABUS09",
         "rawType": "int64",
         "type": "integer"
        },
        {
         "name": "OTHNFIN09",
         "rawType": "int64",
         "type": "integer"
        },
        {
         "name": "HOTHNFIN09",
         "rawType": "int64",
         "type": "integer"
        },
        {
         "name": "NFIN09",
         "rawType": "float64",
         "type": "float"
        },
        {
         "name": "HNFIN09",
         "rawType": "int64",
         "type": "integer"
        },
        {
         "name": "NHNFIN09",
         "rawType": "float64",
         "type": "float"
        },
        {
         "name": "ASSET09",
         "rawType": "float64",
         "type": "float"
        },
        {
         "name": "HASSET09",
         "rawType": "int64",
         "type": "integer"
        },
        {
         "name": "HELOC09",
         "rawType": "int64",
         "type": "integer"
        },
        {
         "name": "MRTHEL09",
         "rawType": "float64",
         "type": "float"
        },
        {
         "name": "NHMORT09",
         "rawType": "float64",
         "type": "float"
        },
        {
         "name": "HOMEEQ09",
         "rawType": "float64",
         "type": "float"
        },
        {
         "name": "HMRTHEL09",
         "rawType": "int64",
         "type": "integer"
        },
        {
         "name": "HHELOC09",
         "rawType": "int64",
         "type": "integer"
        },
        {
         "name": "HNHMORT09",
         "rawType": "int64",
         "type": "integer"
        },
        {
         "name": "HPRIMMORT09",
         "rawType": "int64",
         "type": "integer"
        },
        {
         "name": "PURCH109",
         "rawType": "int64",
         "type": "integer"
        },
        {
         "name": "REFINEVER09",
         "rawType": "int64",
         "type": "integer"
        },
        {
         "name": "FGUARANTEE09",
         "rawType": "int64",
         "type": "integer"
        },
        {
         "name": "FHA09",
         "rawType": "int64",
         "type": "integer"
        },
        {
         "name": "HSECMORT09",
         "rawType": "int64",
         "type": "integer"
        },
        {
         "name": "HELOCYN09",
         "rawType": "int64",
         "type": "integer"
        },
        {
         "name": "ADJM109",
         "rawType": "int64",
         "type": "integer"
        },
        {
         "name": "ADJM209",
         "rawType": "int64",
         "type": "integer"
        },
        {
         "name": "ONTIMEM109",
         "rawType": "int64",
         "type": "integer"
        },
        {
         "name": "ONTIMEM209",
         "rawType": "int64",
         "type": "integer"
        },
        {
         "name": "OTHLOC09",
         "rawType": "int64",
         "type": "integer"
        },
        {
         "name": "HOTHLOC09",
         "rawType": "int64",
         "type": "integer"
        },
        {
         "name": "RESDBT09",
         "rawType": "int64",
         "type": "integer"
        },
        {
         "name": "HRESDBT09",
         "rawType": "int64",
         "type": "integer"
        },
        {
         "name": "CCBAL09",
         "rawType": "int64",
         "type": "integer"
        },
        {
         "name": "HCCBAL09",
         "rawType": "int64",
         "type": "integer"
        },
        {
         "name": "VEHINST09",
         "rawType": "int64",
         "type": "integer"
        },
        {
         "name": "EDNINST09",
         "rawType": "int64",
         "type": "integer"
        },
        {
         "name": "INSTALL09",
         "rawType": "int64",
         "type": "integer"
        },
        {
         "name": "OTHINST09",
         "rawType": "int64",
         "type": "integer"
        },
        {
         "name": "HVEHINST09",
         "rawType": "int64",
         "type": "integer"
        },
        {
         "name": "HEDNINST09",
         "rawType": "int64",
         "type": "integer"
        },
        {
         "name": "HOTHINST09",
         "rawType": "int64",
         "type": "integer"
        },
        {
         "name": "HINSTALL09",
         "rawType": "int64",
         "type": "integer"
        },
        {
         "name": "ODEBT09",
         "rawType": "int64",
         "type": "integer"
        },
        {
         "name": "HODEBT09",
         "rawType": "int64",
         "type": "integer"
        },
        {
         "name": "DEBT09",
         "rawType": "float64",
         "type": "float"
        },
        {
         "name": "HDEBT09",
         "rawType": "int64",
         "type": "integer"
        },
        {
         "name": "NETWORTH09",
         "rawType": "int64",
         "type": "integer"
        },
        {
         "name": "TPAY09",
         "rawType": "float64",
         "type": "float"
        },
        {
         "name": "MORTPAY09",
         "rawType": "float64",
         "type": "float"
        },
        {
         "name": "CONSPAY09",
         "rawType": "float64",
         "type": "float"
        },
        {
         "name": "REVPAY09",
         "rawType": "float64",
         "type": "float"
        },
        {
         "name": "PIRTOTAL09",
         "rawType": "float64",
         "type": "float"
        },
        {
         "name": "PIRMORT09",
         "rawType": "float64",
         "type": "float"
        },
        {
         "name": "PIRCONS09",
         "rawType": "float64",
         "type": "float"
        },
        {
         "name": "PIRREV09",
         "rawType": "float64",
         "type": "float"
        },
        {
         "name": "INCCL209",
         "rawType": "int64",
         "type": "integer"
        },
        {
         "name": "NWCAT09",
         "rawType": "int64",
         "type": "integer"
        },
        {
         "name": "INCCAT09",
         "rawType": "int64",
         "type": "integer"
        },
        {
         "name": "ASSETCAT09",
         "rawType": "int64",
         "type": "integer"
        },
        {
         "name": "HIPIR09",
         "rawType": "int64",
         "type": "integer"
        },
        {
         "name": "LEVERAGE09",
         "rawType": "float64",
         "type": "float"
        },
        {
         "name": "INCOMEDIF",
         "rawType": "float64",
         "type": "float"
        },
        {
         "name": "ASSETDIF",
         "rawType": "float64",
         "type": "float"
        },
        {
         "name": "NETWORTHDIF",
         "rawType": "float64",
         "type": "float"
        },
        {
         "name": "FINDIF",
         "rawType": "float64",
         "type": "float"
        },
        {
         "name": "LIQDIF",
         "rawType": "float64",
         "type": "float"
        },
        {
         "name": "CDSDIF",
         "rawType": "float64",
         "type": "float"
        },
        {
         "name": "NMMFDIF",
         "rawType": "float64",
         "type": "float"
        },
        {
         "name": "STOCKSDIF",
         "rawType": "float64",
         "type": "float"
        },
        {
         "name": "BONDDIF",
         "rawType": "float64",
         "type": "float"
        },
        {
         "name": "RETQLIQDIF",
         "rawType": "float64",
         "type": "float"
        },
        {
         "name": "SAVBNDDIF",
         "rawType": "float64",
         "type": "float"
        },
        {
         "name": "CASHLIDIF",
         "rawType": "float64",
         "type": "float"
        },
        {
         "name": "OTHMADIF",
         "rawType": "float64",
         "type": "float"
        },
        {
         "name": "OTHFINDIF",
         "rawType": "float64",
         "type": "float"
        },
        {
         "name": "NFINDIF",
         "rawType": "float64",
         "type": "float"
        },
        {
         "name": "VEHICDIF",
         "rawType": "float64",
         "type": "float"
        },
        {
         "name": "HOUSESDIF",
         "rawType": "float64",
         "type": "float"
        },
        {
         "name": "ORESREDIF",
         "rawType": "float64",
         "type": "float"
        },
        {
         "name": "NNRESREDIF",
         "rawType": "float64",
         "type": "float"
        },
        {
         "name": "BUSDIF",
         "rawType": "float64",
         "type": "float"
        },
        {
         "name": "OTHNFINDIF",
         "rawType": "float64",
         "type": "float"
        },
        {
         "name": "DEBTDIF",
         "rawType": "float64",
         "type": "float"
        },
        {
         "name": "MRTHELDIF",
         "rawType": "float64",
         "type": "float"
        },
        {
         "name": "RESDBTDIF",
         "rawType": "float64",
         "type": "float"
        },
        {
         "name": "OTHLOCDIF",
         "rawType": "float64",
         "type": "float"
        },
        {
         "name": "CCBALDIF",
         "rawType": "float64",
         "type": "float"
        },
        {
         "name": "INSTALLDIF",
         "rawType": "float64",
         "type": "float"
        },
        {
         "name": "ODEBTDIF",
         "rawType": "float64",
         "type": "float"
        },
        {
         "name": "TPAYDIF",
         "rawType": "float64",
         "type": "float"
        },
        {
         "name": "MORTPAYDIF",
         "rawType": "float64",
         "type": "float"
        },
        {
         "name": "CONSPAYDIF",
         "rawType": "float64",
         "type": "float"
        },
        {
         "name": "REVPAYDIF",
         "rawType": "float64",
         "type": "float"
        },
        {
         "name": "EQUITYDIF",
         "rawType": "float64",
         "type": "float"
        },
        {
         "name": "DEQDIF",
         "rawType": "float64",
         "type": "float"
        },
        {
         "name": "VOWNDIF",
         "rawType": "float64",
         "type": "float"
        },
        {
         "name": "RETEQDIF",
         "rawType": "float64",
         "type": "float"
        },
        {
         "name": "NORMINCDIF",
         "rawType": "float64",
         "type": "float"
        },
        {
         "name": "CHECKINGDIF",
         "rawType": "float64",
         "type": "float"
        },
        {
         "name": "MSAVINGDIF",
         "rawType": "int64",
         "type": "integer"
        },
        {
         "name": "CALLDIF",
         "rawType": "float64",
         "type": "float"
        },
        {
         "name": "HOMEEQDIF",
         "rawType": "float64",
         "type": "float"
        },
        {
         "name": "IRAKHDIF",
         "rawType": "float64",
         "type": "float"
        },
        {
         "name": "PENEQDIF",
         "rawType": "float64",
         "type": "float"
        },
        {
         "name": "VEHINSTDIF",
         "rawType": "float64",
         "type": "float"
        },
        {
         "name": "EDNINSTDIF",
         "rawType": "float64",
         "type": "float"
        },
        {
         "name": "OTHINSTDIF",
         "rawType": "float64",
         "type": "float"
        },
        {
         "name": "HELOCDIF",
         "rawType": "float64",
         "type": "float"
        },
        {
         "name": "NHMORTDIF",
         "rawType": "float64",
         "type": "float"
        },
        {
         "name": "WAGEINCDIF",
         "rawType": "float64",
         "type": "float"
        },
        {
         "name": "BUSSEFARMINCDIF",
         "rawType": "float64",
         "type": "float"
        },
        {
         "name": "INTDIVINCDIF",
         "rawType": "float64",
         "type": "float"
        },
        {
         "name": "KGINCDIF",
         "rawType": "float64",
         "type": "float"
        },
        {
         "name": "SSRETINCDIF",
         "rawType": "float64",
         "type": "float"
        },
        {
         "name": "TRANSFOTHINCDIF",
         "rawType": "float64",
         "type": "float"
        },
        {
         "name": "PSAVINGDIF",
         "rawType": "float64",
         "type": "float"
        },
        {
         "name": "LEVERAGEDIF",
         "rawType": "float64",
         "type": "float"
        },
        {
         "name": "INCOMEPCT",
         "rawType": "float64",
         "type": "float"
        },
        {
         "name": "ASSETPCT",
         "rawType": "float64",
         "type": "float"
        },
        {
         "name": "NETWORTHPCT",
         "rawType": "float64",
         "type": "float"
        },
        {
         "name": "FINPCT",
         "rawType": "float64",
         "type": "float"
        },
        {
         "name": "LIQPCT",
         "rawType": "float64",
         "type": "float"
        },
        {
         "name": "CDSPCT",
         "rawType": "float64",
         "type": "float"
        },
        {
         "name": "NMMFPCT",
         "rawType": "float64",
         "type": "float"
        },
        {
         "name": "STOCKSPCT",
         "rawType": "float64",
         "type": "float"
        },
        {
         "name": "BONDPCT",
         "rawType": "float64",
         "type": "float"
        },
        {
         "name": "RETQLIQPCT",
         "rawType": "float64",
         "type": "float"
        },
        {
         "name": "SAVBNDPCT",
         "rawType": "float64",
         "type": "float"
        },
        {
         "name": "CASHLIPCT",
         "rawType": "float64",
         "type": "float"
        },
        {
         "name": "OTHMAPCT",
         "rawType": "float64",
         "type": "float"
        },
        {
         "name": "OTHFINPCT",
         "rawType": "float64",
         "type": "float"
        },
        {
         "name": "NFINPCT",
         "rawType": "float64",
         "type": "float"
        },
        {
         "name": "VEHICPCT",
         "rawType": "float64",
         "type": "float"
        },
        {
         "name": "HOUSESPCT",
         "rawType": "float64",
         "type": "float"
        },
        {
         "name": "ORESREPCT",
         "rawType": "float64",
         "type": "float"
        },
        {
         "name": "NNRESREPCT",
         "rawType": "float64",
         "type": "float"
        },
        {
         "name": "BUSPCT",
         "rawType": "float64",
         "type": "float"
        },
        {
         "name": "OTHNFINPCT",
         "rawType": "float64",
         "type": "float"
        },
        {
         "name": "DEBTPCT",
         "rawType": "float64",
         "type": "float"
        },
        {
         "name": "MRTHELPCT",
         "rawType": "float64",
         "type": "float"
        },
        {
         "name": "RESDBTPCT",
         "rawType": "float64",
         "type": "float"
        },
        {
         "name": "OTHLOCPCT",
         "rawType": "float64",
         "type": "float"
        },
        {
         "name": "CCBALPCT",
         "rawType": "float64",
         "type": "float"
        },
        {
         "name": "INSTALLPCT",
         "rawType": "float64",
         "type": "float"
        },
        {
         "name": "ODEBTPCT",
         "rawType": "float64",
         "type": "float"
        },
        {
         "name": "TPAYPCT",
         "rawType": "float64",
         "type": "float"
        },
        {
         "name": "MORTPAYPCT",
         "rawType": "float64",
         "type": "float"
        },
        {
         "name": "CONSPAYPCT",
         "rawType": "float64",
         "type": "float"
        },
        {
         "name": "REVPAYPCT",
         "rawType": "float64",
         "type": "float"
        },
        {
         "name": "EQUITYPCT",
         "rawType": "float64",
         "type": "float"
        },
        {
         "name": "DEQPCT",
         "rawType": "float64",
         "type": "float"
        },
        {
         "name": "VOWNPCT",
         "rawType": "float64",
         "type": "float"
        },
        {
         "name": "RETEQPCT",
         "rawType": "float64",
         "type": "float"
        },
        {
         "name": "NORMINCPCT",
         "rawType": "float64",
         "type": "float"
        },
        {
         "name": "CHECKINGPCT",
         "rawType": "float64",
         "type": "float"
        },
        {
         "name": "MSAVINGPCT",
         "rawType": "float64",
         "type": "float"
        },
        {
         "name": "CALLPCT",
         "rawType": "float64",
         "type": "float"
        },
        {
         "name": "HOMEEQPCT",
         "rawType": "float64",
         "type": "float"
        },
        {
         "name": "IRAKHPCT",
         "rawType": "float64",
         "type": "float"
        },
        {
         "name": "PENEQPCT",
         "rawType": "float64",
         "type": "float"
        },
        {
         "name": "VEHINSTPCT",
         "rawType": "float64",
         "type": "float"
        },
        {
         "name": "EDNINSTPCT",
         "rawType": "float64",
         "type": "float"
        },
        {
         "name": "OTHINSTPCT",
         "rawType": "float64",
         "type": "float"
        },
        {
         "name": "HELOCPCT",
         "rawType": "float64",
         "type": "float"
        },
        {
         "name": "NHMORTPCT",
         "rawType": "float64",
         "type": "float"
        },
        {
         "name": "WAGEINCPCT",
         "rawType": "float64",
         "type": "float"
        },
        {
         "name": "BUSSEFARMINCPCT",
         "rawType": "float64",
         "type": "float"
        },
        {
         "name": "INTDIVINCPCT",
         "rawType": "float64",
         "type": "float"
        },
        {
         "name": "KGINCPCT",
         "rawType": "float64",
         "type": "float"
        },
        {
         "name": "SSRETINCPCT",
         "rawType": "float64",
         "type": "float"
        },
        {
         "name": "TRANSFOTHINCPCT",
         "rawType": "float64",
         "type": "float"
        },
        {
         "name": "PSAVINGPCT",
         "rawType": "float64",
         "type": "float"
        },
        {
         "name": "LEVERAGEPCT",
         "rawType": "float64",
         "type": "float"
        },
        {
         "name": "I",
         "rawType": "int64",
         "type": "integer"
        },
        {
         "name": "RiskFree07",
         "rawType": "float64",
         "type": "float"
        },
        {
         "name": "Risky07",
         "rawType": "float64",
         "type": "float"
        },
        {
         "name": "RiskFree09",
         "rawType": "int64",
         "type": "integer"
        },
        {
         "name": "Risky09",
         "rawType": "int64",
         "type": "integer"
        },
        {
         "name": "RT07",
         "rawType": "float64",
         "type": "float"
        },
        {
         "name": "RT09",
         "rawType": "float64",
         "type": "float"
        }
       ],
       "ref": "cd1cc21c-a0b7-4bda-bd55-4e6cca006ae8",
       "rows": [
        [
         "0",
         "1",
         "11",
         "11668.134198",
         "47",
         "3",
         "12",
         "2",
         "1",
         "0",
         "2",
         "5",
         "2",
         "2",
         "3",
         "3",
         "1",
         "3",
         "1",
         "3",
         "3",
         "56443.744181",
         "56443.744181",
         "0.0",
         "0.0",
         "0.0",
         "0.0",
         "0.0",
         "0",
         "69223.459844",
         "3",
         "5177.988243",
         "1",
         "0",
         "0",
         "0",
         "0",
         "0",
         "0",
         "0",
         "1",
         "0",
         "0",
         "5",
         "0",
         "0",
         "62",
         "62",
         "0",
         "1",
         "0",
         "0",
         "1",
         "0",
         "0",
         "1",
         "0",
         "0",
         "0",
         "0",
         "1",
         "1",
         "0",
         "0",
         "0",
         "0",
         "0",
         "0",
         "0",
         "1",
         "1",
         "0",
         "0",
         "0",
         "1",
         "1",
         "1",
         "0",
         "0",
         "0",
         "745.63030699",
         "1",
         "0",
         "0",
         "0",
         "0",
         "0.0",
         "0",
         "745.63030699",
         "1",
         "7249.1835402",
         "1",
         "0.0",
         "0",
         "0.0",
         "0",
         "0",
         "15200",
         "0.0",
         "0",
         "0.0",
         "94239.386022",
         "0.0",
         "94239.386022",
         "1",
         "1",
         "0",
         "0",
         "1",
         "0",
         "0.0",
         "0",
         "0.0",
         "0",
         "0.0",
         "0.0",
         "0.0",
         "0",
         "0.0",
         "0",
         "0.0",
         "0",
         "0.0",
         "0.0",
         "0.0",
         "0",
         "0",
         "0",
         "102234.19987",
         "1",
         "41423.905944",
         "1",
         "0",
         "0",
         "1",
         "2",
         "28996.734161",
         "0",
         "0",
         "2",
         "300323.31809",
         "1",
         "1",
         "0.0",
         "0",
         "0.0",
         "0",
         "0.0",
         "0.0",
         "0.0",
         "0",
         "0",
         "0.0",
         "0",
         "341747.22404",
         "1",
         "41423.905944",
         "443981.42391",
         "1",
         "0.0",
         "59029.06597",
         "57000.0",
         "241294.25212",
         "1",
         "0",
         "1",
         "1",
         "0",
         "1",
         "0",
         "0",
         "0",
         "0",
         "0",
         "0",
         "2",
         "0",
         "0.0",
         "0",
         "0.0",
         "0",
         "25889.941215",
         "1",
         "6420.7054213",
         "0.0",
         "6420.7054213",
         "0.0",
         "1.0355976486",
         "0.0",
         "0.0",
         "1",
         "0.0",
         "0",
         "91339.712606",
         "1",
         "352641.7113",
         "2024.593403",
         "755.98628347",
         "621.35858916",
         "647.24853037",
         "0.4304307092",
         "0.1664448655",
         "0.1368039991",
         "0.1425041657",
         "4",
         "3",
         "3",
         "4",
         "1",
         "20.572868072",
         "50",
         "3",
         "12",
         "2",
         "2",
         "0",
         "1",
         "2",
         "1",
         "3",
         "1",
         "3",
         "3",
         "37855.787476",
         "37855.787476",
         "0.0",
         "159.39278937",
         "0.0",
         "0.0",
         "0.0",
         "0",
         "37855.787476",
         "4",
         "10000",
         "3",
         "1",
         "4",
         "0",
         "1",
         "65",
         "65",
         "0",
         "1",
         "0",
         "0",
         "1",
         "0",
         "0",
         "1",
         "1",
         "0",
         "1",
         "0",
         "0",
         "0",
         "0",
         "0",
         "0",
         "1",
         "0",
         "1",
         "0",
         "0",
         "0",
         "0",
         "0",
         "0",
         "1",
         "1",
         "0",
         "0",
         "0",
         "0",
         "2000",
         "1",
         "0",
         "14000",
         "1",
         "0",
         "0",
         "0",
         "16000",
         "1",
         "0",
         "0",
         "0",
         "0",
         "17000",
         "1",
         "1",
         "10100",
         "0",
         "0",
         "60000",
         "53200",
         "50640.0",
         "113200",
         "1",
         "1",
         "0",
         "0",
         "1",
         "0",
         "0",
         "0",
         "0",
         "0",
         "0",
         "0",
         "0",
         "0",
         "0",
         "0",
         "67640.0",
         "1",
         "17000",
         "50640.0",
         "1.7867809524",
         "0",
         "0",
         "0",
         "146200",
         "1",
         "22800",
         "1",
         "0",
         "0",
         "1",
         "3",
         "14000",
         "0",
         "0",
         "3",
         "155000.0",
         "1",
         "1",
         "0",
         "0",
         "71000",
         "1",
         "0.0",
         "0.0",
         "0",
         "0",
         "0",
         "0",
         "0",
         "248800.0",
         "1",
         "93800.0",
         "395000.0",
         "1",
         "0",
         "45000.0",
         "45000.0",
         "110000.0",
         "1",
         "0",
         "1",
         "1",
         "0",
         "1",
         "0",
         "0",
         "0",
         "0",
         "0",
         "0",
         "2",
         "0",
         "0",
         "0",
         "0",
         "0",
         "300",
         "1",
         "5700",
         "0",
         "255700",
         "250000",
         "1",
         "0",
         "1",
         "1",
         "0",
         "0",
         "301000.0",
         "1",
         "94000",
         "1127.5",
         "730.0",
         "390.0",
         "7.5",
         "0.3574090226",
         "0.2314045113",
         "0.1236270677",
         "0.0023774436",
         "3",
         "2",
         "2",
         "4",
         "0",
         "76.202531646",
         "-18587.9567",
         "-48981.42391",
         "-258641.7113",
         "43965.800131",
         "15254.369693",
         "-7249.18354",
         "0.0",
         "17000.0",
         "0.0",
         "18960.613978",
         "0.0",
         "0.0",
         "0.0",
         "0.0",
         "-92947.22404",
         "-18623.90594",
         "-145323.3181",
         "0.0",
         "71000.0",
         "0.0",
         "0.0",
         "209660.28739",
         "-14029.06597",
         "0.0",
         "0.0",
         "-25589.94121",
         "249279.29458",
         "0.0",
         "-897.093403",
         "-25.98628347",
         "-231.3585892",
         "-639.7485304",
         "67640.0",
         "17000.0",
         "-14996.73416",
         "50640.0",
         "-31367.67237",
         "1254.369693",
         "14000",
         "0.0",
         "-131294.2521",
         "60000.0",
         "50640.0",
         "-720.7054213",
         "0.0",
         "250000.0",
         "0.0",
         "-12000.0",
         "-18587.9567",
         "0.0",
         "159.39278937",
         "0.0",
         "0.0",
         "0.0",
         "4822.011757",
         "55.629663573",
         "-32.93182792",
         "-11.0323138",
         "-73.3440495",
         "43.00498286",
         "2045.8355233",
         "-100.0",
         "0.0",
         "1700000.0",
         "0.0",
         "20.119628086",
         "0.0",
         "0.0",
         "0.0",
         "0.0",
         "-27.19765297",
         "-44.95931883",
         "-48.38895595",
         "0.0",
         "7100000.0",
         "0.0",
         "0.0",
         "229.5390268",
         "-23.76636957",
         "0.0",
         "0.0",
         "-98.84124882",
         "3882.4284595",
         "0.0",
         "-44.3098057",
         "-3.437401451",
         "-37.23431094",
         "-98.84124882",
         "6764000.0",
         "1700000.0",
         "-51.71870073",
         "5064000.0",
         "-45.3136443",
         "168.22944041",
         "1400000.0",
         "0.0",
         "-54.41250712",
         "6000000.0",
         "5064000.0",
         "-11.22470779",
         "0.0",
         "25000000.0",
         "0.0",
         "-21.05263158",
         "-32.93182792",
         "0.0",
         "15939.278937",
         "0.0",
         "0.0",
         "0.0",
         "93.125197099",
         "270.40305405",
         "57",
         "7994.81384719",
         "0.0",
         "16000",
         "17000",
         "0.0",
         "0.3304219461188338"
        ],
        [
         "1",
         "1",
         "12",
         "11823.456494",
         "47",
         "3",
         "12",
         "2",
         "1",
         "0",
         "2",
         "5",
         "2",
         "2",
         "3",
         "3",
         "1",
         "3",
         "1",
         "3",
         "3",
         "56443.744181",
         "56443.744181",
         "0.0",
         "0.0",
         "0.0",
         "0.0",
         "0.0",
         "0",
         "69223.459844",
         "3",
         "5177.988243",
         "1",
         "0",
         "0",
         "0",
         "0",
         "0",
         "0",
         "0",
         "1",
         "0",
         "0",
         "5",
         "0",
         "0",
         "62",
         "62",
         "0",
         "1",
         "0",
         "0",
         "1",
         "0",
         "0",
         "1",
         "0",
         "0",
         "0",
         "0",
         "1",
         "1",
         "0",
         "0",
         "0",
         "0",
         "0",
         "0",
         "0",
         "1",
         "1",
         "0",
         "0",
         "0",
         "1",
         "1",
         "1",
         "0",
         "0",
         "0",
         "745.63030699",
         "1",
         "0",
         "0",
         "0",
         "0",
         "0.0",
         "0",
         "745.63030699",
         "1",
         "7249.1835402",
         "1",
         "0.0",
         "0",
         "0.0",
         "0",
         "0",
         "15200",
         "0.0",
         "0",
         "0.0",
         "81812.214239",
         "0.0",
         "81812.214239",
         "1",
         "1",
         "0",
         "0",
         "1",
         "0",
         "0.0",
         "0",
         "0.0",
         "0",
         "0.0",
         "0.0",
         "0.0",
         "0",
         "0.0",
         "0",
         "0.0",
         "0",
         "0.0",
         "0.0",
         "0.0",
         "0",
         "0",
         "0",
         "89807.028086",
         "1",
         "41423.905944",
         "1",
         "0",
         "0",
         "1",
         "2",
         "28996.734161",
         "0",
         "0",
         "2",
         "300323.31809",
         "1",
         "1",
         "0.0",
         "0",
         "0.0",
         "0",
         "0.0",
         "0.0",
         "0.0",
         "0",
         "0",
         "0.0",
         "0",
         "341747.22404",
         "1",
         "41423.905944",
         "431554.25212",
         "1",
         "0.0",
         "59029.06597",
         "57000.0",
         "241294.25212",
         "1",
         "0",
         "1",
         "1",
         "0",
         "1",
         "0",
         "0",
         "0",
         "0",
         "0",
         "0",
         "2",
         "0",
         "0.0",
         "0",
         "0.0",
         "0",
         "25889.941215",
         "1",
         "6110.0261267",
         "0.0",
         "6110.0261267",
         "0.0",
         "1.0355976486",
         "0.0",
         "0.0",
         "1",
         "0.0",
         "0",
         "91029.033312",
         "1",
         "340525.21881",
         "2024.593403",
         "755.98628347",
         "621.35858916",
         "647.24853037",
         "0.4304307092",
         "0.1664448655",
         "0.1368039991",
         "0.1425041657",
         "4",
         "3",
         "3",
         "4",
         "1",
         "21.093300058",
         "50",
         "3",
         "12",
         "2",
         "2",
         "0",
         "1",
         "2",
         "1",
         "3",
         "1",
         "3",
         "3",
         "37855.787476",
         "37855.787476",
         "0.0",
         "159.39278937",
         "0.0",
         "0.0",
         "0.0",
         "0",
         "37855.787476",
         "4",
         "10000",
         "3",
         "1",
         "4",
         "0",
         "1",
         "65",
         "65",
         "0",
         "1",
         "0",
         "0",
         "1",
         "0",
         "0",
         "1",
         "1",
         "0",
         "1",
         "0",
         "0",
         "0",
         "0",
         "0",
         "0",
         "1",
         "0",
         "1",
         "0",
         "0",
         "0",
         "0",
         "0",
         "0",
         "1",
         "1",
         "0",
         "0",
         "0",
         "0",
         "2000",
         "1",
         "0",
         "17000",
         "1",
         "0",
         "0",
         "0",
         "19000",
         "1",
         "0",
         "0",
         "0",
         "0",
         "18000",
         "1",
         "1",
         "10100",
         "0",
         "0",
         "61000",
         "31600",
         "27690.0",
         "92600",
         "1",
         "1",
         "0",
         "0",
         "1",
         "0",
         "0",
         "0",
         "0",
         "0",
         "0",
         "0",
         "0",
         "0",
         "0",
         "0",
         "45690.0",
         "1",
         "18000",
         "27690.0",
         "1.2069488722",
         "0",
         "0",
         "0",
         "129600",
         "1",
         "23400",
         "1",
         "0",
         "0",
         "1",
         "3",
         "14000",
         "0",
         "0",
         "3",
         "202000.0",
         "1",
         "1",
         "0",
         "0",
         "54000",
         "1",
         "0.0",
         "0.0",
         "0",
         "0",
         "0",
         "0",
         "0",
         "279400.0",
         "1",
         "77400.0",
         "409000.0",
         "1",
         "0",
         "45000.0",
         "45000.0",
         "157000.0",
         "1",
         "0",
         "1",
         "1",
         "0",
         "1",
         "0",
         "0",
         "0",
         "0",
         "0",
         "0",
         "1",
         "0",
         "0",
         "0",
         "0",
         "0",
         "300",
         "1",
         "6300",
         "0",
         "256300",
         "250000",
         "1",
         "0",
         "1",
         "1",
         "0",
         "0",
         "301600.0",
         "1",
         "107400",
         "1127.5",
         "730.0",
         "390.0",
         "7.5",
         "0.3574090226",
         "0.2314045113",
         "0.1236270677",
         "0.0023774436",
         "3",
         "3",
         "2",
         "4",
         "0",
         "73.740831296",
         "-18587.9567",
         "-22554.25212",
         "-233125.2188",
         "39792.971914",
         "18254.369693",
         "-7249.18354",
         "0.0",
         "18000.0",
         "0.0",
         "10787.785761",
         "0.0",
         "0.0",
         "0.0",
         "0.0",
         "-62347.22404",
         "-18023.90594",
         "-98323.31809",
         "0.0",
         "54000.0",
         "0.0",
         "0.0",
         "210570.96669",
         "-14029.06597",
         "0.0",
         "0.0",
         "-25589.94121",
         "250189.97387",
         "0.0",
         "-897.093403",
         "-25.98628347",
         "-231.3585892",
         "-639.7485304",
         "45690.0",
         "18000.0",
         "-14996.73416",
         "27690.0",
         "-31367.67237",
         "1254.369693",
         "17000",
         "0.0",
         "-84294.25212",
         "61000.0",
         "27690.0",
         "189.97387329",
         "0.0",
         "250000.0",
         "0.0",
         "-12000.0",
         "-18587.9567",
         "0.0",
         "159.39278937",
         "0.0",
         "0.0",
         "0.0",
         "4822.011757",
         "52.647531238",
         "-32.93182792",
         "-5.2262843",
         "-68.46048572",
         "44.309418496",
         "2448.1796839",
         "-100.0",
         "0.0",
         "1800000.0",
         "0.0",
         "13.186033236",
         "0.0",
         "0.0",
         "0.0",
         "0.0",
         "-18.24366656",
         "-43.51087985",
         "-32.73915549",
         "0.0",
         "5400000.0",
         "0.0",
         "0.0",
         "231.32286374",
         "-23.76636957",
         "0.0",
         "0.0",
         "-98.84124882",
         "4094.7447472",
         "0.0",
         "-44.3098057",
         "-3.437401451",
         "-37.23431094",
         "-98.84124882",
         "4569000.0",
         "1800000.0",
         "-51.71870073",
         "2769000.0",
         "-45.3136443",
         "168.22944041",
         "1700000.0",
         "0.0",
         "-34.93421471",
         "6100000.0",
         "2769000.0",
         "3.1092154002",
         "0.0",
         "25000000.0",
         "0.0",
         "-21.05263158",
         "-32.93182792",
         "0.0",
         "15939.278937",
         "0.0",
         "0.0",
         "0.0",
         "93.125197099",
         "249.59362022",
         "57",
         "7994.81384719",
         "0.0",
         "19000",
         "18000",
         "0.0",
         "0.3120359872727938"
        ],
        [
         "2",
         "1",
         "13",
         "11913.228354",
         "47",
         "3",
         "12",
         "2",
         "1",
         "0",
         "2",
         "5",
         "2",
         "2",
         "3",
         "3",
         "1",
         "3",
         "1",
         "3",
         "3",
         "56443.744181",
         "56443.744181",
         "0.0",
         "0.0",
         "0.0",
         "0.0",
         "0.0",
         "0",
         "69223.459844",
         "3",
         "5177.988243",
         "1",
         "0",
         "0",
         "0",
         "0",
         "0",
         "0",
         "0",
         "1",
         "0",
         "0",
         "5",
         "0",
         "0",
         "62",
         "62",
         "0",
         "1",
         "0",
         "0",
         "1",
         "0",
         "0",
         "1",
         "0",
         "0",
         "0",
         "0",
         "1",
         "1",
         "0",
         "0",
         "0",
         "0",
         "0",
         "0",
         "0",
         "1",
         "1",
         "0",
         "0",
         "0",
         "1",
         "1",
         "1",
         "0",
         "0",
         "0",
         "735.2743305",
         "1",
         "0",
         "0",
         "0",
         "0",
         "0.0",
         "0",
         "735.2743305",
         "1",
         "7249.1835402",
         "1",
         "0.0",
         "0",
         "0.0",
         "0",
         "0",
         "15200",
         "0.0",
         "0",
         "0.0",
         "98381.776617",
         "0.0",
         "98381.776617",
         "1",
         "1",
         "0",
         "0",
         "1",
         "0",
         "0.0",
         "0",
         "0.0",
         "0",
         "0.0",
         "0.0",
         "0.0",
         "0",
         "0.0",
         "0",
         "0.0",
         "0",
         "0.0",
         "0.0",
         "0.0",
         "0",
         "0",
         "0",
         "106366.23449",
         "1",
         "41423.905944",
         "1",
         "0",
         "0",
         "1",
         "2",
         "28996.734161",
         "0",
         "0",
         "2",
         "300323.31809",
         "1",
         "1",
         "0.0",
         "0",
         "0.0",
         "0",
         "0.0",
         "0.0",
         "0.0",
         "0",
         "0",
         "0.0",
         "0",
         "341747.22404",
         "1",
         "41423.905944",
         "448113.45852",
         "1",
         "0.0",
         "60064.663619",
         "58000.0",
         "240258.65447",
         "1",
         "0",
         "1",
         "1",
         "0",
         "1",
         "0",
         "0",
         "0",
         "0",
         "0",
         "0",
         "2",
         "0",
         "0.0",
         "0",
         "0.0",
         "0",
         "25889.941215",
         "1",
         "13462.769432",
         "0.0",
         "13462.769432",
         "0.0",
         "1.0355976486",
         "0.0",
         "0.0",
         "1",
         "0.0",
         "0",
         "99417.374265",
         "1",
         "348696.08426",
         "2024.593403",
         "755.98628347",
         "621.35858916",
         "647.24853037",
         "0.4304307092",
         "0.1664448655",
         "0.1368039991",
         "0.1425041657",
         "4",
         "3",
         "3",
         "4",
         "1",
         "22.185759516",
         "50",
         "3",
         "12",
         "2",
         "2",
         "0",
         "1",
         "2",
         "1",
         "3",
         "1",
         "3",
         "3",
         "37855.787476",
         "37855.787476",
         "0.0",
         "159.39278937",
         "0.0",
         "0.0",
         "0.0",
         "0",
         "37855.787476",
         "4",
         "10000",
         "3",
         "1",
         "4",
         "0",
         "1",
         "65",
         "65",
         "0",
         "1",
         "0",
         "0",
         "1",
         "0",
         "0",
         "1",
         "1",
         "0",
         "1",
         "0",
         "0",
         "0",
         "0",
         "0",
         "0",
         "1",
         "0",
         "1",
         "0",
         "0",
         "0",
         "0",
         "0",
         "0",
         "1",
         "1",
         "0",
         "0",
         "0",
         "0",
         "2000",
         "1",
         "0",
         "11000",
         "1",
         "0",
         "0",
         "0",
         "13000",
         "1",
         "0",
         "0",
         "0",
         "0",
         "12000",
         "1",
         "1",
         "10100",
         "0",
         "0",
         "60000",
         "47000",
         "43400.0",
         "107000",
         "1",
         "1",
         "0",
         "0",
         "1",
         "0",
         "0",
         "0",
         "0",
         "0",
         "0",
         "0",
         "0",
         "0",
         "0",
         "0",
         "55400.0",
         "1",
         "12000",
         "43400.0",
         "1.4634486216",
         "0",
         "0",
         "0",
         "132000",
         "1",
         "34000",
         "1",
         "0",
         "0",
         "1",
         "3",
         "24000",
         "0",
         "0",
         "3",
         "179000.0",
         "1",
         "1",
         "0",
         "0",
         "71000",
         "1",
         "0.0",
         "0.0",
         "0",
         "0",
         "0",
         "0",
         "0",
         "284000.0",
         "1",
         "105000.0",
         "416000.0",
         "1",
         "0",
         "29000.0",
         "29000.0",
         "150000.0",
         "1",
         "0",
         "1",
         "1",
         "0",
         "1",
         "0",
         "0",
         "0",
         "0",
         "0",
         "0",
         "1",
         "0",
         "0",
         "0",
         "0",
         "0",
         "300",
         "1",
         "6100",
         "0",
         "256100",
         "250000",
         "1",
         "0",
         "1",
         "1",
         "0",
         "0",
         "285400.0",
         "1",
         "130600",
         "1127.5",
         "730.0",
         "390.0",
         "7.5",
         "0.3574090226",
         "0.2314045113",
         "0.1236270677",
         "0.0023774436",
         "3",
         "3",
         "2",
         "4",
         "0",
         "68.605769231",
         "-18587.9567",
         "-32113.45852",
         "-218096.0843",
         "25633.765513",
         "12264.725669",
         "-7249.18354",
         "0.0",
         "12000.0",
         "0.0",
         "8618.2233834",
         "0.0",
         "0.0",
         "0.0",
         "0.0",
         "-57747.22404",
         "-7423.905944",
         "-121323.3181",
         "0.0",
         "71000.0",
         "0.0",
         "0.0",
         "185982.62573",
         "-31064.66362",
         "0.0",
         "0.0",
         "-25589.94121",
         "242637.23057",
         "0.0",
         "-897.093403",
         "-25.98628347",
         "-231.3585892",
         "-639.7485304",
         "55400.0",
         "12000.0",
         "-4996.734161",
         "43400.0",
         "-31367.67237",
         "1264.7256695",
         "11000",
         "0.0",
         "-90258.65447",
         "60000.0",
         "43400.0",
         "-7362.769432",
         "0.0",
         "250000.0",
         "0.0",
         "-29000.0",
         "-18587.9567",
         "0.0",
         "159.39278937",
         "0.0",
         "0.0",
         "0.0",
         "4822.011757",
         "46.420009715",
         "-32.93182792",
         "-7.166367783",
         "-62.54618107",
         "24.099532748",
         "1668.0475791",
         "-100.0",
         "0.0",
         "1200000.0",
         "0.0",
         "8.7599794187",
         "0.0",
         "0.0",
         "0.0",
         "0.0",
         "-16.89764246",
         "-17.92179123",
         "-40.39756848",
         "0.0",
         "7100000.0",
         "0.0",
         "0.0",
         "187.0725586",
         "-51.71870073",
         "0.0",
         "0.0",
         "-98.84124882",
         "1802.2831914",
         "0.0",
         "-44.3098057",
         "-3.437401451",
         "-37.23431094",
         "-98.84124882",
         "5540000.0",
         "1200000.0",
         "-17.23205839",
         "4340000.0",
         "-45.3136443",
         "172.00731986",
         "1100000.0",
         "0.0",
         "-37.56728542",
         "6000000.0",
         "4340000.0",
         "-54.6898576",
         "0.0",
         "25000000.0",
         "0.0",
         "-50.0",
         "-32.93182792",
         "0.0",
         "15939.278937",
         "0.0",
         "0.0",
         "0.0",
         "93.125197099",
         "209.23335837",
         "57",
         "7984.4578707",
         "0.0",
         "13000",
         "12000",
         "0.0",
         "0.30787550744248987"
        ],
        [
         "3",
         "1",
         "14",
         "11929.394266",
         "47",
         "3",
         "12",
         "2",
         "1",
         "0",
         "2",
         "5",
         "2",
         "2",
         "3",
         "3",
         "1",
         "3",
         "1",
         "3",
         "3",
         "56443.744181",
         "56443.744181",
         "0.0",
         "0.0",
         "0.0",
         "0.0",
         "0.0",
         "0",
         "69223.459844",
         "3",
         "5177.988243",
         "1",
         "0",
         "0",
         "0",
         "0",
         "0",
         "0",
         "0",
         "1",
         "0",
         "0",
         "5",
         "0",
         "0",
         "62",
         "62",
         "0",
         "1",
         "0",
         "0",
         "1",
         "0",
         "0",
         "1",
         "0",
         "0",
         "0",
         "0",
         "1",
         "1",
         "0",
         "0",
         "0",
         "0",
         "0",
         "0",
         "0",
         "1",
         "1",
         "0",
         "0",
         "0",
         "1",
         "1",
         "1",
         "0",
         "0",
         "0",
         "735.2743305",
         "1",
         "0",
         "0",
         "0",
         "0",
         "0.0",
         "0",
         "735.2743305",
         "1",
         "7249.1835402",
         "1",
         "0.0",
         "0",
         "0.0",
         "0",
         "0",
         "15200",
         "0.0",
         "0",
         "0.0",
         "99417.374265",
         "0.0",
         "99417.374265",
         "1",
         "1",
         "0",
         "0",
         "1",
         "0",
         "0.0",
         "0",
         "0.0",
         "0",
         "0.0",
         "0.0",
         "0.0",
         "0",
         "0.0",
         "0",
         "0.0",
         "0",
         "0.0",
         "0.0",
         "0.0",
         "0",
         "0",
         "0",
         "107401.83214",
         "1",
         "41423.905944",
         "1",
         "0",
         "0",
         "1",
         "2",
         "28996.734161",
         "0",
         "0",
         "2",
         "300323.31809",
         "1",
         "1",
         "0.0",
         "0",
         "0.0",
         "0",
         "0.0",
         "0.0",
         "0.0",
         "0",
         "0",
         "0.0",
         "0",
         "341747.22404",
         "1",
         "41423.905944",
         "449149.05617",
         "1",
         "0.0",
         "59029.06597",
         "57000.0",
         "241294.25212",
         "1",
         "0",
         "1",
         "1",
         "0",
         "1",
         "0",
         "0",
         "0",
         "0",
         "0",
         "0",
         "2",
         "0",
         "0.0",
         "0",
         "0.0",
         "0",
         "25889.941215",
         "1",
         "12427.171783",
         "0.0",
         "12427.171783",
         "0.0",
         "1.0355976486",
         "0.0",
         "0.0",
         "1",
         "0.0",
         "0",
         "97346.178968",
         "1",
         "351802.8772",
         "2014.2374265",
         "755.98628347",
         "611.00261267",
         "647.24853037",
         "0.4282290176",
         "0.1664448655",
         "0.1345239324",
         "0.1425041657",
         "4",
         "3",
         "3",
         "4",
         "1",
         "21.673468447",
         "50",
         "3",
         "12",
         "2",
         "2",
         "0",
         "1",
         "2",
         "1",
         "3",
         "1",
         "3",
         "3",
         "37855.787476",
         "37855.787476",
         "0.0",
         "159.39278937",
         "0.0",
         "0.0",
         "0.0",
         "0",
         "37855.787476",
         "4",
         "10000",
         "3",
         "1",
         "4",
         "0",
         "1",
         "65",
         "65",
         "0",
         "1",
         "0",
         "0",
         "1",
         "0",
         "0",
         "1",
         "1",
         "0",
         "1",
         "0",
         "0",
         "0",
         "0",
         "0",
         "0",
         "1",
         "0",
         "1",
         "0",
         "0",
         "0",
         "0",
         "0",
         "0",
         "1",
         "1",
         "0",
         "0",
         "0",
         "0",
         "2000",
         "1",
         "0",
         "23000",
         "1",
         "0",
         "0",
         "0",
         "25000",
         "1",
         "0",
         "0",
         "0",
         "0",
         "13000",
         "1",
         "1",
         "10100",
         "0",
         "0",
         "59000",
         "52100",
         "17825.0",
         "111100",
         "1",
         "1",
         "0",
         "0",
         "1",
         "0",
         "0",
         "0",
         "0",
         "0",
         "0",
         "0",
         "0",
         "0",
         "0",
         "0",
         "30825.0",
         "1",
         "13000",
         "17825.0",
         "0.8142744361",
         "0",
         "0",
         "0",
         "149100",
         "1",
         "34000",
         "1",
         "0",
         "0",
         "1",
         "3",
         "24000",
         "0",
         "0",
         "3",
         "196000.0",
         "1",
         "1",
         "0",
         "0",
         "61000",
         "1",
         "0.0",
         "0.0",
         "0",
         "0",
         "0",
         "0",
         "0",
         "291000.0",
         "1",
         "95000.0",
         "440100.0",
         "1",
         "0",
         "38000.0",
         "38000.0",
         "158000.0",
         "1",
         "0",
         "1",
         "1",
         "0",
         "1",
         "0",
         "0",
         "0",
         "0",
         "0",
         "0",
         "1",
         "0",
         "0",
         "0",
         "0",
         "0",
         "300",
         "1",
         "6700",
         "0",
         "256700",
         "250000",
         "1",
         "0",
         "1",
         "1",
         "0",
         "0",
         "295000.0",
         "1",
         "145100",
         "1137.5",
         "740.0",
         "390.0",
         "7.5",
         "0.3605789474",
         "0.2345744361",
         "0.1236270677",
         "0.0023774436",
         "3",
         "3",
         "2",
         "4",
         "0",
         "67.030220404",
         "-18587.9567",
         "-9049.056172",
         "-206702.8772",
         "41698.167864",
         "24264.725669",
         "-7249.18354",
         "0.0",
         "13000.0",
         "0.0",
         "11682.625735",
         "0.0",
         "0.0",
         "0.0",
         "0.0",
         "-50747.22404",
         "-7423.905944",
         "-104323.3181",
         "0.0",
         "61000.0",
         "0.0",
         "0.0",
         "197653.82103",
         "-21029.06597",
         "0.0",
         "0.0",
         "-25589.94121",
         "244272.82822",
         "0.0",
         "-876.7374265",
         "-15.98628347",
         "-221.0026127",
         "-639.7485304",
         "30825.0",
         "13000.0",
         "-4996.734161",
         "17825.0",
         "-31367.67237",
         "1264.7256695",
         "23000",
         "0.0",
         "-83294.25212",
         "59000.0",
         "17825.0",
         "-5727.171783",
         "0.0",
         "250000.0",
         "0.0",
         "-19000.0",
         "-18587.9567",
         "0.0",
         "159.39278937",
         "0.0",
         "0.0",
         "0.0",
         "4822.011757",
         "45.356751958",
         "-32.93182792",
         "-2.014711163",
         "-58.75531174",
         "38.824447437",
         "3300.0914982",
         "-100.0",
         "0.0",
         "1300000.0",
         "0.0",
         "11.751090613",
         "0.0",
         "0.0",
         "0.0",
         "0.0",
         "-14.84934492",
         "-17.92179123",
         "-34.73700236",
         "0.0",
         "6100000.0",
         "0.0",
         "0.0",
         "203.04219758",
         "-35.6249343",
         "0.0",
         "0.0",
         "-98.84124882",
         "1965.6349206",
         "0.0",
         "-43.52701499",
         "-2.114626128",
         "-36.1704857",
         "-98.84124882",
         "3082500.0",
         "1300000.0",
         "-17.23205839",
         "1782500.0",
         "-45.3136443",
         "172.00731986",
         "2300000.0",
         "0.0",
         "-34.51978296",
         "5900000.0",
         "1782500.0",
         "-46.08588248",
         "0.0",
         "25000000.0",
         "0.0",
         "-33.33333333",
         "-32.93182792",
         "0.0",
         "15939.278937",
         "0.0",
         "0.0",
         "0.0",
         "93.125197099",
         "209.27315842",
         "57",
         "7984.4578707",
         "0.0",
         "25000",
         "13000",
         "0.0",
         "0.21942881561142372"
        ],
        [
         "4",
         "1",
         "15",
         "11917.722907",
         "47",
         "3",
         "12",
         "2",
         "1",
         "0",
         "2",
         "5",
         "2",
         "2",
         "3",
         "3",
         "1",
         "3",
         "1",
         "3",
         "3",
         "56443.744181",
         "56443.744181",
         "0.0",
         "0.0",
         "0.0",
         "0.0",
         "0.0",
         "0",
         "69223.459844",
         "3",
         "5177.988243",
         "1",
         "0",
         "0",
         "0",
         "0",
         "0",
         "0",
         "0",
         "1",
         "0",
         "0",
         "5",
         "0",
         "0",
         "62",
         "62",
         "0",
         "1",
         "0",
         "0",
         "1",
         "0",
         "0",
         "1",
         "0",
         "0",
         "0",
         "0",
         "1",
         "1",
         "0",
         "0",
         "0",
         "0",
         "0",
         "0",
         "0",
         "1",
         "1",
         "0",
         "0",
         "0",
         "1",
         "1",
         "1",
         "0",
         "0",
         "0",
         "745.63030699",
         "1",
         "0",
         "0",
         "0",
         "0",
         "0.0",
         "0",
         "745.63030699",
         "1",
         "7249.1835402",
         "1",
         "0.0",
         "0",
         "0.0",
         "0",
         "0",
         "15200",
         "0.0",
         "0",
         "0.0",
         "101488.56956",
         "0.0",
         "101488.56956",
         "1",
         "1",
         "0",
         "0",
         "1",
         "0",
         "0.0",
         "0",
         "0.0",
         "0",
         "0.0",
         "0.0",
         "0.0",
         "0",
         "0.0",
         "0",
         "0.0",
         "0",
         "0.0",
         "0.0",
         "0.0",
         "0",
         "0",
         "0",
         "109483.38341",
         "1",
         "41423.905944",
         "1",
         "0",
         "0",
         "1",
         "2",
         "28996.734161",
         "0",
         "0",
         "2",
         "300323.31809",
         "1",
         "1",
         "0.0",
         "0",
         "0.0",
         "0",
         "0.0",
         "0.0",
         "0.0",
         "0",
         "0",
         "0.0",
         "0",
         "341747.22404",
         "1",
         "41423.905944",
         "451230.60745",
         "1",
         "0.0",
         "59029.06597",
         "57000.0",
         "241294.25212",
         "1",
         "0",
         "1",
         "1",
         "0",
         "1",
         "0",
         "0",
         "0",
         "0",
         "0",
         "0",
         "2",
         "0",
         "0.0",
         "0",
         "0.0",
         "0",
         "26925.538863",
         "1",
         "6317.1456564",
         "0.0",
         "6317.1456564",
         "0.0",
         "1.0355976486",
         "0.0",
         "0.0",
         "1",
         "0.0",
         "0",
         "92271.75049",
         "1",
         "358958.85696",
         "2040.1273677",
         "755.98628347",
         "611.00261267",
         "673.13847159",
         "0.4337332466",
         "0.1664448655",
         "0.1345239324",
         "0.1482043323",
         "4",
         "3",
         "3",
         "4",
         "1",
         "20.448912145",
         "50",
         "3",
         "12",
         "2",
         "2",
         "0",
         "1",
         "2",
         "1",
         "3",
         "1",
         "3",
         "3",
         "37855.787476",
         "37855.787476",
         "0.0",
         "159.39278937",
         "0.0",
         "0.0",
         "0.0",
         "0",
         "37855.787476",
         "4",
         "10000",
         "3",
         "1",
         "4",
         "0",
         "1",
         "65",
         "65",
         "0",
         "1",
         "0",
         "0",
         "1",
         "0",
         "0",
         "1",
         "1",
         "0",
         "1",
         "0",
         "0",
         "0",
         "0",
         "0",
         "0",
         "1",
         "0",
         "1",
         "0",
         "0",
         "0",
         "0",
         "0",
         "0",
         "1",
         "1",
         "0",
         "0",
         "0",
         "0",
         "2000",
         "1",
         "0",
         "15000",
         "1",
         "0",
         "0",
         "0",
         "17000",
         "1",
         "0",
         "0",
         "0",
         "0",
         "12000",
         "1",
         "1",
         "10100",
         "0",
         "0",
         "60000",
         "31800",
         "29280.0",
         "91800",
         "1",
         "1",
         "0",
         "0",
         "1",
         "0",
         "0",
         "0",
         "0",
         "0",
         "0",
         "0",
         "0",
         "0",
         "0",
         "0",
         "41280.0",
         "1",
         "12000",
         "29280.0",
         "1.0904541353",
         "0",
         "0",
         "0",
         "120800",
         "1",
         "34000",
         "1",
         "0",
         "0",
         "1",
         "3",
         "25000",
         "0",
         "0",
         "3",
         "214000.0",
         "1",
         "1",
         "0",
         "0",
         "61000",
         "1",
         "0.0",
         "0.0",
         "0",
         "0",
         "0",
         "0",
         "0",
         "309000.0",
         "1",
         "95000.0",
         "429800.0",
         "1",
         "0",
         "35000.0",
         "35000.0",
         "179000.0",
         "1",
         "0",
         "1",
         "1",
         "0",
         "1",
         "0",
         "0",
         "0",
         "0",
         "0",
         "0",
         "1",
         "0",
         "0",
         "0",
         "0",
         "0",
         "300",
         "1",
         "7100",
         "0",
         "257100",
         "250000",
         "1",
         "0",
         "1",
         "1",
         "0",
         "0",
         "292400.0",
         "1",
         "137400",
         "1127.5",
         "730.0",
         "390.0",
         "7.5",
         "0.3574090226",
         "0.2314045113",
         "0.1236270677",
         "0.0023774436",
         "3",
         "3",
         "2",
         "4",
         "0",
         "68.031642624",
         "-18587.9567",
         "-21430.60745",
         "-221558.857",
         "11316.61659",
         "16254.369693",
         "-7249.18354",
         "0.0",
         "12000.0",
         "0.0",
         "-9688.569562",
         "0.0",
         "0.0",
         "0.0",
         "0.0",
         "-32747.22404",
         "-7423.905944",
         "-86323.31809",
         "0.0",
         "61000.0",
         "0.0",
         "0.0",
         "200128.24951",
         "-24029.06597",
         "0.0",
         "0.0",
         "-26625.53886",
         "250782.85434",
         "0.0",
         "-912.6273677",
         "-25.98628347",
         "-221.0026127",
         "-665.6384716",
         "41280.0",
         "12000.0",
         "-3996.734161",
         "29280.0",
         "-31367.67237",
         "1254.369693",
         "15000",
         "0.0",
         "-62294.25212",
         "60000.0",
         "29280.0",
         "782.85434357",
         "0.0",
         "250000.0",
         "0.0",
         "-22000.0",
         "-18587.9567",
         "0.0",
         "159.39278937",
         "0.0",
         "0.0",
         "0.0",
         "4822.011757",
         "47.582730479",
         "-32.93182792",
         "-4.74936919",
         "-61.72263274",
         "10.336378214",
         "2179.9502435",
         "-100.0",
         "0.0",
         "1200000.0",
         "0.0",
         "-9.546463808",
         "0.0",
         "0.0",
         "0.0",
         "0.0",
         "-9.582294086",
         "-17.92179123",
         "-28.74346176",
         "0.0",
         "6100000.0",
         "0.0",
         "0.0",
         "216.89005405",
         "-40.70717633",
         "0.0",
         "0.0",
         "-98.88581617",
         "3969.8760798",
         "0.0",
         "-44.73384271",
         "-3.437401451",
         "-36.1704857",
         "-98.88581617",
         "4128000.0",
         "1200000.0",
         "-13.78339415",
         "2928000.0",
         "-45.3136443",
         "168.22944041",
         "1500000.0",
         "0.0",
         "-25.81671614",
         "6000000.0",
         "2928000.0",
         "12.392532738",
         "0.0",
         "25000000.0",
         "0.0",
         "-38.59649123",
         "-32.93182792",
         "0.0",
         "15939.278937",
         "0.0",
         "0.0",
         "0.0",
         "93.125197099",
         "232.69076683",
         "57",
         "7994.81384719",
         "0.0",
         "17000",
         "12000",
         "0.0",
         "0.26540992020904297"
        ]
       ],
       "shape": {
        "columns": 521,
        "rows": 5
       }
      },
      "text/html": [
       "<div>\n",
       "<style scoped>\n",
       "    .dataframe tbody tr th:only-of-type {\n",
       "        vertical-align: middle;\n",
       "    }\n",
       "\n",
       "    .dataframe tbody tr th {\n",
       "        vertical-align: top;\n",
       "    }\n",
       "\n",
       "    .dataframe thead th {\n",
       "        text-align: right;\n",
       "    }\n",
       "</style>\n",
       "<table border=\"1\" class=\"dataframe\">\n",
       "  <thead>\n",
       "    <tr style=\"text-align: right;\">\n",
       "      <th></th>\n",
       "      <th>YY1</th>\n",
       "      <th>Y1</th>\n",
       "      <th>WGT09</th>\n",
       "      <th>AGE07</th>\n",
       "      <th>AGECL07</th>\n",
       "      <th>EDUC07</th>\n",
       "      <th>EDCL07</th>\n",
       "      <th>MARRIED07</th>\n",
       "      <th>KIDS07</th>\n",
       "      <th>LIFECL07</th>\n",
       "      <th>...</th>\n",
       "      <th>TRANSFOTHINCPCT</th>\n",
       "      <th>PSAVINGPCT</th>\n",
       "      <th>LEVERAGEPCT</th>\n",
       "      <th>I</th>\n",
       "      <th>RiskFree07</th>\n",
       "      <th>Risky07</th>\n",
       "      <th>RiskFree09</th>\n",
       "      <th>Risky09</th>\n",
       "      <th>RT07</th>\n",
       "      <th>RT09</th>\n",
       "    </tr>\n",
       "  </thead>\n",
       "  <tbody>\n",
       "    <tr>\n",
       "      <th>0</th>\n",
       "      <td>1</td>\n",
       "      <td>11</td>\n",
       "      <td>11668.134198</td>\n",
       "      <td>47</td>\n",
       "      <td>3</td>\n",
       "      <td>12</td>\n",
       "      <td>2</td>\n",
       "      <td>1</td>\n",
       "      <td>0</td>\n",
       "      <td>2</td>\n",
       "      <td>...</td>\n",
       "      <td>0.0</td>\n",
       "      <td>93.125197</td>\n",
       "      <td>270.403054</td>\n",
       "      <td>57</td>\n",
       "      <td>7994.813847</td>\n",
       "      <td>0.0</td>\n",
       "      <td>16000</td>\n",
       "      <td>17000</td>\n",
       "      <td>0.0</td>\n",
       "      <td>0.330422</td>\n",
       "    </tr>\n",
       "    <tr>\n",
       "      <th>1</th>\n",
       "      <td>1</td>\n",
       "      <td>12</td>\n",
       "      <td>11823.456494</td>\n",
       "      <td>47</td>\n",
       "      <td>3</td>\n",
       "      <td>12</td>\n",
       "      <td>2</td>\n",
       "      <td>1</td>\n",
       "      <td>0</td>\n",
       "      <td>2</td>\n",
       "      <td>...</td>\n",
       "      <td>0.0</td>\n",
       "      <td>93.125197</td>\n",
       "      <td>249.593620</td>\n",
       "      <td>57</td>\n",
       "      <td>7994.813847</td>\n",
       "      <td>0.0</td>\n",
       "      <td>19000</td>\n",
       "      <td>18000</td>\n",
       "      <td>0.0</td>\n",
       "      <td>0.312036</td>\n",
       "    </tr>\n",
       "    <tr>\n",
       "      <th>2</th>\n",
       "      <td>1</td>\n",
       "      <td>13</td>\n",
       "      <td>11913.228354</td>\n",
       "      <td>47</td>\n",
       "      <td>3</td>\n",
       "      <td>12</td>\n",
       "      <td>2</td>\n",
       "      <td>1</td>\n",
       "      <td>0</td>\n",
       "      <td>2</td>\n",
       "      <td>...</td>\n",
       "      <td>0.0</td>\n",
       "      <td>93.125197</td>\n",
       "      <td>209.233358</td>\n",
       "      <td>57</td>\n",
       "      <td>7984.457871</td>\n",
       "      <td>0.0</td>\n",
       "      <td>13000</td>\n",
       "      <td>12000</td>\n",
       "      <td>0.0</td>\n",
       "      <td>0.307876</td>\n",
       "    </tr>\n",
       "    <tr>\n",
       "      <th>3</th>\n",
       "      <td>1</td>\n",
       "      <td>14</td>\n",
       "      <td>11929.394266</td>\n",
       "      <td>47</td>\n",
       "      <td>3</td>\n",
       "      <td>12</td>\n",
       "      <td>2</td>\n",
       "      <td>1</td>\n",
       "      <td>0</td>\n",
       "      <td>2</td>\n",
       "      <td>...</td>\n",
       "      <td>0.0</td>\n",
       "      <td>93.125197</td>\n",
       "      <td>209.273158</td>\n",
       "      <td>57</td>\n",
       "      <td>7984.457871</td>\n",
       "      <td>0.0</td>\n",
       "      <td>25000</td>\n",
       "      <td>13000</td>\n",
       "      <td>0.0</td>\n",
       "      <td>0.219429</td>\n",
       "    </tr>\n",
       "    <tr>\n",
       "      <th>4</th>\n",
       "      <td>1</td>\n",
       "      <td>15</td>\n",
       "      <td>11917.722907</td>\n",
       "      <td>47</td>\n",
       "      <td>3</td>\n",
       "      <td>12</td>\n",
       "      <td>2</td>\n",
       "      <td>1</td>\n",
       "      <td>0</td>\n",
       "      <td>2</td>\n",
       "      <td>...</td>\n",
       "      <td>0.0</td>\n",
       "      <td>93.125197</td>\n",
       "      <td>232.690767</td>\n",
       "      <td>57</td>\n",
       "      <td>7994.813847</td>\n",
       "      <td>0.0</td>\n",
       "      <td>17000</td>\n",
       "      <td>12000</td>\n",
       "      <td>0.0</td>\n",
       "      <td>0.265410</td>\n",
       "    </tr>\n",
       "  </tbody>\n",
       "</table>\n",
       "<p>5 rows × 521 columns</p>\n",
       "</div>"
      ],
      "text/plain": [
       "   YY1  Y1         WGT09  AGE07  AGECL07  EDUC07  EDCL07  MARRIED07  KIDS07  \\\n",
       "0    1  11  11668.134198     47        3      12       2          1       0   \n",
       "1    1  12  11823.456494     47        3      12       2          1       0   \n",
       "2    1  13  11913.228354     47        3      12       2          1       0   \n",
       "3    1  14  11929.394266     47        3      12       2          1       0   \n",
       "4    1  15  11917.722907     47        3      12       2          1       0   \n",
       "\n",
       "   LIFECL07  ...  TRANSFOTHINCPCT  PSAVINGPCT  LEVERAGEPCT   I   RiskFree07  \\\n",
       "0         2  ...              0.0   93.125197   270.403054  57  7994.813847   \n",
       "1         2  ...              0.0   93.125197   249.593620  57  7994.813847   \n",
       "2         2  ...              0.0   93.125197   209.233358  57  7984.457871   \n",
       "3         2  ...              0.0   93.125197   209.273158  57  7984.457871   \n",
       "4         2  ...              0.0   93.125197   232.690767  57  7994.813847   \n",
       "\n",
       "   Risky07  RiskFree09  Risky09  RT07      RT09  \n",
       "0      0.0       16000    17000   0.0  0.330422  \n",
       "1      0.0       19000    18000   0.0  0.312036  \n",
       "2      0.0       13000    12000   0.0  0.307876  \n",
       "3      0.0       25000    13000   0.0  0.219429  \n",
       "4      0.0       17000    12000   0.0  0.265410  \n",
       "\n",
       "[5 rows x 521 columns]"
      ]
     },
     "execution_count": 15,
     "metadata": {},
     "output_type": "execute_result"
    }
   ],
   "source": [
    "dataset.head()"
   ]
  },
  {
   "cell_type": "code",
   "execution_count": 17,
   "id": "feea141d",
   "metadata": {},
   "outputs": [],
   "source": [
    "#percentage of change\n",
    "dataset['PercentageChange'] = np.abs(dataset['RT09']/dataset['RT07'] - 1)\n"
   ]
  },
  {
   "cell_type": "code",
   "execution_count": 19,
   "id": "21b0a434",
   "metadata": {},
   "outputs": [],
   "source": [
    "# Drop the rows containing NA\n",
    "dataset=dataset.dropna(axis=0)\n"
   ]
  },
  {
   "cell_type": "code",
   "execution_count": 21,
   "id": "291bf68d",
   "metadata": {},
   "outputs": [],
   "source": [
    "mask = dataset.isnull().any(axis=1) | dataset.isin([np.inf, -np.inf]).any(axis=1)\n",
    "dataset = dataset[~mask]"
   ]
  },
  {
   "cell_type": "code",
   "execution_count": 22,
   "id": "c4066a43",
   "metadata": {},
   "outputs": [
    {
     "name": "stderr",
     "output_type": "stream",
     "text": [
      "C:\\Users\\Sayan\\AppData\\Local\\Temp\\ipykernel_18036\\2313023117.py:2: UserWarning: \n",
      "\n",
      "`distplot` is a deprecated function and will be removed in seaborn v0.14.0.\n",
      "\n",
      "Please adapt your code to use either `displot` (a figure-level function with\n",
      "similar flexibility) or `histplot` (an axes-level function for histograms).\n",
      "\n",
      "For a guide to updating your code to use the new functions, please see\n",
      "https://gist.github.com/mwaskom/de44147ed2974457ad6372750bbe5751\n",
      "\n",
      "  sns.distplot(dataset['RT07'], hist=True, kde=False, bins=int(36), color = 'blue', hist_kws={'edgecolor':'black'})\n"
     ]
    },
    {
     "data": {
      "text/plain": [
       "<Axes: xlabel='RT07'>"
      ]
     },
     "execution_count": 22,
     "metadata": {},
     "output_type": "execute_result"
    },
    {
     "data": {
      "image/png": "[encoded data removed]",
      "text/plain": [
       "<Figure size 640x480 with 1 Axes>"
      ]
     },
     "metadata": {},
     "output_type": "display_data"
    }
   ],
   "source": [
    "#risk 2007\n",
    "sns.distplot(dataset['RT07'], hist=True, kde=False, bins=int(36), color = 'blue', hist_kws={'edgecolor':'black'})"
   ]
  },
  {
   "cell_type": "code",
   "execution_count": 23,
   "id": "c3cfeb4a",
   "metadata": {},
   "outputs": [
    {
     "name": "stderr",
     "output_type": "stream",
     "text": [
      "C:\\Users\\Sayan\\AppData\\Local\\Temp\\ipykernel_18036\\2453729835.py:2: UserWarning: \n",
      "\n",
      "`distplot` is a deprecated function and will be removed in seaborn v0.14.0.\n",
      "\n",
      "Please adapt your code to use either `displot` (a figure-level function with\n",
      "similar flexibility) or `histplot` (an axes-level function for histograms).\n",
      "\n",
      "For a guide to updating your code to use the new functions, please see\n",
      "https://gist.github.com/mwaskom/de44147ed2974457ad6372750bbe5751\n",
      "\n",
      "  sns.distplot(dataset['RT09'], hist=True, kde=False, bins=int(36), color = 'blue', hist_kws={'edgecolor':'black'})\n"
     ]
    },
    {
     "data": {
      "text/plain": [
       "<Axes: xlabel='RT09'>"
      ]
     },
     "execution_count": 23,
     "metadata": {},
     "output_type": "execute_result"
    },
    {
     "data": {
      "image/png": "[encoded data removed]",
      "text/plain": [
       "<Figure size 640x480 with 1 Axes>"
      ]
     },
     "metadata": {},
     "output_type": "display_data"
    }
   ],
   "source": [
    "#risk 2009\n",
    "sns.distplot(dataset['RT09'], hist=True, kde=False, bins=int(36), color = 'blue', hist_kws={'edgecolor':'black'})"
   ]
  },
  {
   "cell_type": "code",
   "execution_count": 24,
   "id": "3910ef8d",
   "metadata": {},
   "outputs": [],
   "source": [
    "dataset3 = dataset[dataset['PercentageChange']<=.1]"
   ]
  },
  {
   "cell_type": "code",
   "execution_count": 25,
   "id": "49d6d21d",
   "metadata": {},
   "outputs": [],
   "source": [
    "#the TrueRiskTolerance will be the predicted variable for this study\n",
    "dataset3 = dataset3.assign(TrueRiskTolerance = lambda x: (x['RT07'] + x['RT09'])/2)"
   ]
  },
  {
   "cell_type": "code",
   "execution_count": 26,
   "id": "67c305be",
   "metadata": {},
   "outputs": [],
   "source": [
    "#removing unnecessary variables\n",
    "dataset3.drop(labels=['RT07', 'RT09'], axis=1, inplace=True)\n",
    "dataset3.drop(labels=['PercentageChange'], axis=1, inplace=True)"
   ]
  },
  {
   "cell_type": "markdown",
   "id": "f21c8648",
   "metadata": {},
   "source": [
    "## Lets check only the most impactful variables: Demographic attributes, financial attributes and behavioral attributes\n",
    "### (age, marital status, education, num. kids, occupation, financial balance, net worth, income, willingness to take risk)"
   ]
  },
  {
   "cell_type": "code",
   "execution_count": 27,
   "id": "2561edd0",
   "metadata": {},
   "outputs": [],
   "source": [
    "keep_list2 = ['AGE07','EDCL07','MARRIED07','KIDS07','OCCAT107','INCOME07','RISK07','NETWORTH07','TrueRiskTolerance']\n",
    "drop_list2 = [col for col in dataset3.columns if col not in keep_list2]\n",
    "dataset3.drop(labels=drop_list2, axis=1, inplace=True)"
   ]
  },
  {
   "cell_type": "code",
   "execution_count": 28,
   "id": "5e18c777",
   "metadata": {},
   "outputs": [
    {
     "data": {
      "text/plain": [
       "<Axes: title={'center': 'Correlation Matrix'}>"
      ]
     },
     "execution_count": 28,
     "metadata": {},
     "output_type": "execute_result"
    },
    {
     "data": {
      "image/png": "[encoded data removed]",
      "text/plain": [
       "<Figure size 1500x1500 with 2 Axes>"
      ]
     },
     "metadata": {},
     "output_type": "display_data"
    }
   ],
   "source": [
    "# correlation\n",
    "correlation = dataset3.corr()\n",
    "pyplot.figure(figsize=(15,15))\n",
    "pyplot.title('Correlation Matrix')\n",
    "sns.heatmap(correlation, vmax=1, square=True,annot=True,cmap='cubehelix')"
   ]
  },
  {
   "cell_type": "code",
   "execution_count": 29,
   "id": "ce547415",
   "metadata": {},
   "outputs": [],
   "source": [
    "Y= dataset3[\"TrueRiskTolerance\"]\n",
    "X = dataset3.loc[:, dataset3.columns != 'TrueRiskTolerance']\n",
    "validation_size = 0.2\n",
    "X_train, X_validation, Y_train, Y_validation = model_selection.train_test_split(X, Y, test_size=validation_size, random_state=42)"
   ]
  },
  {
   "cell_type": "code",
   "execution_count": 30,
   "id": "7073a9aa",
   "metadata": {},
   "outputs": [],
   "source": [
    "num_folds = 10\n",
    "scoring = 'r2'\n",
    "# spot-check the algorithms\n",
    "models = []\n",
    "models.append(('LR', LinearRegression()))\n",
    "models.append(('LASSO', Lasso()))\n",
    "models.append(('EN', ElasticNet()))\n",
    "models.append(('KNN', KNeighborsRegressor()))\n",
    "models.append(('CART', DecisionTreeRegressor()))\n",
    "models.append(('SVR', SVR()))\n",
    "#Ensemble Models\n",
    "# Boosting methods\n",
    "models.append(('ABR', AdaBoostRegressor()))\n",
    "models.append(('GBR', GradientBoostingRegressor()))\n",
    "# Bagging methods\n",
    "models.append(('RFR', RandomForestRegressor()))\n",
    "models.append(('ETR', ExtraTreesRegressor()))"
   ]
  },
  {
   "cell_type": "code",
   "execution_count": 33,
   "id": "c6fca33c",
   "metadata": {},
   "outputs": [
    {
     "name": "stdout",
     "output_type": "stream",
     "text": [
      "LR: R2 = -0.0784 (+/- 0.5811)\n",
      "LASSO: R2 = -0.2820 (+/- 0.8503)\n",
      "EN: R2 = -0.2387 (+/- 0.8301)\n",
      "KNN: R2 = 0.4408 (+/- 0.2009)\n",
      "CART: R2 = 0.5354 (+/- 0.3024)\n",
      "SVR: R2 = 0.1323 (+/- 0.1319)\n",
      "ABR: R2 = 0.4479 (+/- 0.1307)\n",
      "GBR: R2 = 0.6852 (+/- 0.1249)\n",
      "RFR: R2 = 0.7278 (+/- 0.1511)\n",
      "ETR: R2 = 0.7266 (+/- 0.1743)\n"
     ]
    }
   ],
   "source": [
    "from sklearn.model_selection import cross_val_score\n",
    "\n",
    "#models evaluation \n",
    "results = []\n",
    "names = []\n",
    "kfold = KFold(n_splits=10, shuffle=True, random_state=3)\n",
    "for name, model in models:\n",
    "    cv_results = cross_val_score(model, X_train, Y_train, cv=kfold, scoring='r2')\n",
    "    results.append(cv_results)\n",
    "    names.append(name)\n",
    "    print(f\"{name}: R2 = {cv_results.mean():.4f} (+/- {cv_results.std():.4f})\")\n"
   ]
  },
  {
   "cell_type": "code",
   "execution_count": 34,
   "id": "4ef55375",
   "metadata": {},
   "outputs": [
    {
     "name": "stderr",
     "output_type": "stream",
     "text": [
      "C:\\Users\\Sayan\\AppData\\Local\\Temp\\ipykernel_18036\\3534642617.py:3: MatplotlibDeprecationWarning: The 'labels' parameter of boxplot() has been renamed 'tick_labels' since Matplotlib 3.9; support for the old name will be dropped in 3.11.\n",
      "  plt.boxplot(results, labels=names)\n"
     ]
    },
    {
     "data": {
      "image/png": "[encoded data removed]",
      "text/plain": [
       "<Figure size 1000x500 with 1 Axes>"
      ]
     },
     "metadata": {},
     "output_type": "display_data"
    }
   ],
   "source": [
    "# Boxplot of model performance\n",
    "plt.figure(figsize=(10,5))\n",
    "plt.boxplot(results, labels=names)\n",
    "plt.title(\"Regression Model Comparison (R2)\")\n",
    "plt.ylabel(\"R2 Score\")\n",
    "plt.show()"
   ]
  },
  {
   "cell_type": "code",
   "execution_count": 31,
   "id": "95929f9f",
   "metadata": {},
   "outputs": [
    {
     "name": "stdout",
     "output_type": "stream",
     "text": [
      "Best: 0.710019 using {'n_estimators': 50}\n"
     ]
    }
   ],
   "source": [
    "# 8. Grid search : RandomForestRegressor\n",
    "'''\n",
    "n_estimators : integer, optional (default=10)\n",
    " The number of trees in the forest.\n",
    "'''\n",
    "param_grid = {'n_estimators': [50,100,150,200,250,300,350,400]}\n",
    "model = RandomForestRegressor()\n",
    "kfold = model_selection.KFold(n_splits=num_folds)\n",
    "grid = model_selection.GridSearchCV(estimator=model, param_grid=param_grid, scoring=scoring, cv=kfold)\n",
    "grid_result = grid.fit(X_train, Y_train)\n",
    "print(\"Best: %f using %s\" % (grid_result.best_score_, grid_result.best_params_))\n",
    "means = grid_result.cv_results_['mean_test_score']\n",
    "stds = grid_result.cv_results_['std_test_score']\n",
    "params = grid_result.cv_results_['params']"
   ]
  },
  {
   "cell_type": "code",
   "execution_count": 36,
   "id": "411c0edc",
   "metadata": {},
   "outputs": [
    {
     "name": "stdout",
     "output_type": "stream",
     "text": [
      "Best RF: R2=0.7268 with params={'n_estimators': 50}\n"
     ]
    }
   ],
   "source": [
    "\n",
    "# -------- BLOCK 6: Hyperparameter Tuning (Random Forest) --------\n",
    "param_grid = {'n_estimators': [50,100,150,200,250,300]}\n",
    "grid = GridSearchCV(RandomForestRegressor(random_state=3), param_grid, cv=kfold, scoring='r2')\n",
    "grid.fit(X_train, Y_train)\n",
    "print(f\"Best RF: R2={grid.best_score_:.4f} with params={grid.best_params_}\")"
   ]
  },
  {
   "cell_type": "code",
   "execution_count": 38,
   "id": "1dfbec7d",
   "metadata": {},
   "outputs": [
    {
     "name": "stdout",
     "output_type": "stream",
     "text": [
      "Test R2: 0.6309141036702619\n",
      "Test MSE: 0.011386908818116746\n"
     ]
    }
   ],
   "source": [
    "# -------- BLOCK 7: Final Model Training & Evaluation --------\n",
    "best_rf = RandomForestRegressor(n_estimators=grid.best_params_['n_estimators'], random_state=3)\n",
    "best_rf.fit(X_train, Y_train)\n",
    "y_pred = best_rf.predict(X_validation)\n",
    "print(\"Test R2:\", r2_score(Y_validation, y_pred))\n",
    "print(\"Test MSE:\", mean_squared_error(Y_validation, y_pred))"
   ]
  },
  {
   "cell_type": "code",
   "execution_count": 39,
   "id": "3bb65c0f",
   "metadata": {},
   "outputs": [
    {
     "data": {
      "image/png": "[encoded data removed]",
      "text/plain": [
       "<Figure size 640x480 with 1 Axes>"
      ]
     },
     "metadata": {},
     "output_type": "display_data"
    }
   ],
   "source": [
    "# -------- BLOCK 8: Feature Importance --------\n",
    "importances = pd.Series(best_rf.feature_importances_, index=X.columns)\n",
    "plt.figure()\n",
    "importances.nlargest(10).plot(kind='barh')\n",
    "plt.title(\"Top 10 Feature Importances\")\n",
    "plt.show()\n"
   ]
  },
  {
   "cell_type": "code",
   "execution_count": 40,
   "id": "af3d0912",
   "metadata": {},
   "outputs": [],
   "source": [
    "with open(\"finalized_model.sav\", \"wb\") as f:\n",
    "    pickle.dump(best_rf, f)"
   ]
  }
 ],
 "metadata": {
  "kernelspec": {
   "display_name": "Python 3",
   "language": "python",
   "name": "python3"
  },
  "language_info": {
   "codemirror_mode": {
    "name": "ipython",
    "version": 3
   },
   "file_extension": ".py",
   "mimetype": "text/x-python",
   "name": "python",
   "nbconvert_exporter": "python",
   "pygments_lexer": "ipython3",
   "version": "3.12.5"
  }
 },
 "nbformat": 4,
 "nbformat_minor": 5
}
